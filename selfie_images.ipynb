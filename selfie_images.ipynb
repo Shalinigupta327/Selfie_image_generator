{
  "nbformat": 4,
  "nbformat_minor": 0,
  "metadata": {
    "colab": {
      "provenance": [],
      "gpuType": "T4"
    },
    "kernelspec": {
      "name": "python3",
      "display_name": "Python 3"
    },
    "language_info": {
      "name": "python"
    },
    "accelerator": "GPU"
  },
  "cells": [
    {
      "cell_type": "code",
      "execution_count": null,
      "metadata": {
        "id": "_7JBgc2JIKkO"
      },
      "outputs": [],
      "source": [
        "import os\n",
        "import torch\n",
        "from torchvision import datasets, transforms\n",
        "import torchvision.models as models\n",
        "import torch.nn as nn\n",
        "from PIL import Image\n"
      ]
    },
    {
      "cell_type": "code",
      "source": [
        "# Define the transform\n",
        "transform = transforms.Compose([\n",
        "    transforms.Resize((224, 224)),\n",
        "    transforms.ToTensor(),\n",
        "    transforms.Normalize(mean=[0.485, 0.456, 0.406], std=[0.229, 0.224, 0.225]),\n",
        "])\n",
        "\n",
        "# Function to load images from a directory\n",
        "def load_images_from_folder(folder):\n",
        "    images = []\n",
        "    for filename in os.listdir(folder):\n",
        "        img_path = os.path.join(folder, filename)\n",
        "        if os.path.isfile(img_path):\n",
        "            image = Image.open(img_path)\n",
        "            image = transform(image)  # Apply transformation\n",
        "            images.append(image)\n",
        "    return torch.stack(images)  # Stack images into a tensor\n",
        "\n",
        "# Load your dataset\n",
        "real_images_path = '/content/drive/MyDrive/ColabNotebooks/datasets/trainA'\n",
        "selfie_images_path = '/content/drive/MyDrive/ColabNotebooks/datasets/trainB'\n",
        "\n",
        "real_images = load_images_from_folder(real_images_path)\n",
        "selfie_images = load_images_from_folder(selfie_images_path)\n",
        "\n",
        "print(\"Real Images Shape: \", real_images.shape)\n",
        "print(\"Selfie Images Shape: \", selfie_images.shape)"
      ],
      "metadata": {
        "id": "3tIl-AaEIQ7v",
        "colab": {
          "base_uri": "https://localhost:8080/"
        },
        "outputId": "2ff105f7-0a3f-4c51-f3a5-4d617a7bde0b"
      },
      "execution_count": null,
      "outputs": [
        {
          "output_type": "stream",
          "name": "stdout",
          "text": [
            "Real Images Shape:  torch.Size([1244, 3, 224, 224])\n",
            "Selfie Images Shape:  torch.Size([1190, 3, 224, 224])\n"
          ]
        }
      ]
    },
    {
      "cell_type": "code",
      "source": [
        "# Load VGG19 model\n",
        "vgg = models.vgg19(pretrained=True).features\n",
        "vgg.eval()  # Set to evaluation mode\n",
        "\n",
        "# Move VGG to the device\n",
        "device = torch.device(\"cuda\" if torch.cuda.is_available() else \"cpu\")\n",
        "vgg = vgg.to(device)\n"
      ],
      "metadata": {
        "id": "SUUPWk2-xX8-",
        "colab": {
          "base_uri": "https://localhost:8080/"
        },
        "outputId": "2700d0f2-0996-45c6-9460-8a9150cce7fa"
      },
      "execution_count": null,
      "outputs": [
        {
          "output_type": "stream",
          "name": "stderr",
          "text": [
            "/usr/local/lib/python3.10/dist-packages/torchvision/models/_utils.py:208: UserWarning: The parameter 'pretrained' is deprecated since 0.13 and may be removed in the future, please use 'weights' instead.\n",
            "  warnings.warn(\n",
            "/usr/local/lib/python3.10/dist-packages/torchvision/models/_utils.py:223: UserWarning: Arguments other than a weight enum or `None` for 'weights' are deprecated since 0.13 and may be removed in the future. The current behavior is equivalent to passing `weights=VGG19_Weights.IMAGENET1K_V1`. You can also use `weights=VGG19_Weights.DEFAULT` to get the most up-to-date weights.\n",
            "  warnings.warn(msg)\n"
          ]
        }
      ]
    },
    {
      "cell_type": "code",
      "source": [
        "# Function to extract features\n",
        "def extract_features(images, model):\n",
        "    features_list = []\n",
        "\n",
        "    with torch.no_grad():\n",
        "        for img in images:\n",
        "            img = img.unsqueeze(0).to(device)  # Add batch dimension and move to device\n",
        "            features = model(img)  # Extract features\n",
        "            features_list.append(features.cpu())  # Store the features on CPU\n",
        "\n",
        "    return features_list\n",
        "\n",
        "# Extract features from both datasets\n",
        "real_features = extract_features(real_images, vgg)\n",
        "selfie_features = extract_features(selfie_images, vgg)\n",
        "\n",
        "# Convert to tensors for further processing\n",
        "real_features_tensor = torch.cat(real_features, dim=0)\n",
        "selfie_features_tensor = torch.cat(selfie_features, dim=0)\n",
        "\n",
        "print(\"Real Features Shape: \", real_features_tensor.shape)\n",
        "print(\"Selfie Features Shape: \", selfie_features_tensor.shape)"
      ],
      "metadata": {
        "id": "pithliFyxZDT",
        "colab": {
          "base_uri": "https://localhost:8080/"
        },
        "outputId": "d53df1c7-adc6-4e73-bdac-0397102162c7"
      },
      "execution_count": null,
      "outputs": [
        {
          "output_type": "stream",
          "name": "stdout",
          "text": [
            "Real Features Shape:  torch.Size([1244, 512, 7, 7])\n",
            "Selfie Features Shape:  torch.Size([1190, 512, 7, 7])\n"
          ]
        }
      ]
    },
    {
      "cell_type": "code",
      "source": [
        "\n",
        "# Define the PerceptualLoss class\n",
        "class PerceptualLoss(nn.Module):\n",
        "    def __init__(self, feature_extractor):\n",
        "        super(PerceptualLoss, self).__init__()\n",
        "        self.feature_extractor = feature_extractor\n",
        "        self.criterion = nn.MSELoss()  # Mean Squared Error Loss for perceptual loss\n",
        "\n",
        "    def forward(self, real_image, generated_image):\n",
        "        # Extract features for both real and generated images\n",
        "        real_features = self.feature_extractor(real_image)\n",
        "        generated_features = self.feature_extractor(generated_image)\n",
        "\n",
        "        # Calculate perceptual loss as the MSE between the features\n",
        "        loss = self.criterion(real_features, generated_features)\n",
        "        return loss\n"
      ],
      "metadata": {
        "id": "HA091nOswo6c"
      },
      "execution_count": null,
      "outputs": []
    },
    {
      "cell_type": "code",
      "source": [
        "class Generator(nn.Module):\n",
        "    def __init__(self, latent_dim):\n",
        "        super(Generator, self).__init__()\n",
        "        self.model = nn.Sequential(\n",
        "            nn.Linear(latent_dim, 256),\n",
        "            nn.ReLU(),\n",
        "            nn.Linear(256, 512),\n",
        "            nn.ReLU(),\n",
        "            nn.Linear(512, 1024),\n",
        "            nn.ReLU(),\n",
        "            nn.Linear(1024, 3 * 224 * 224),  # Output layer for 224x224 RGB images\n",
        "            nn.Tanh()  # Use Tanh to scale output between -1 and 1\n",
        "        )\n",
        "\n",
        "    def forward(self, x):\n",
        "        x = self.model(x)\n",
        "        x = x.view(-1, 3, 224, 224)  # Reshape to image dimensions\n",
        "        return x\n",
        "\n",
        "class Discriminator(nn.Module):\n",
        "    def __init__(self):\n",
        "        super(Discriminator, self).__init__()\n",
        "        self.model = nn.Sequential(\n",
        "            nn.Linear(3 * 224 * 224, 1024),\n",
        "            nn.LeakyReLU(0.2),\n",
        "            nn.Linear(1024, 512),\n",
        "            nn.LeakyReLU(0.2),\n",
        "            nn.Linear(512, 1),  # Output layer for binary classification\n",
        "            nn.Sigmoid()  # Sigmoid to output probabilities\n",
        "        )\n",
        "\n",
        "    def forward(self, x):\n",
        "        x = x.view(-1, 3 * 224 * 224)  # Flatten the images\n",
        "        return self.model(x)\n"
      ],
      "metadata": {
        "id": "_De3mabkXHMj"
      },
      "execution_count": null,
      "outputs": []
    },
    {
      "cell_type": "code",
      "source": [
        "# Hyperparameters\n",
        "latent_dim = 100\n",
        "num_epochs = 100  # Set your number of epochs\n",
        "batch_size = 32  # Set your batch size\n",
        "\n",
        "# Initialize the models\n",
        "generator = Generator(latent_dim).to(device)\n",
        "discriminator = Discriminator().to(device)\n",
        "\n",
        "# Loss and Optimizers\n",
        "criterion = nn.BCELoss()  # Binary Cross-Entropy Loss\n",
        "optimizer_G = torch.optim.Adam(generator.parameters(), lr=0.0001, betas=(0.5, 0.999))\n",
        "optimizer_D = torch.optim.Adam(discriminator.parameters(), lr=0.0001, betas=(0.5, 0.999))\n"
      ],
      "metadata": {
        "id": "qnR1p7neXLAi"
      },
      "execution_count": null,
      "outputs": []
    },
    {
      "cell_type": "code",
      "source": [
        "from torch.utils.data import Dataset\n",
        "from torch.utils.data import DataLoader\n",
        "\n",
        "\n",
        "class CustomImageDataset(Dataset):\n",
        "    def __init__(self, real_images, selfie_images):\n",
        "        self.real_images = real_images\n",
        "        self.selfie_images = selfie_images\n",
        "\n",
        "    def __len__(self):\n",
        "        return max(len(self.real_images), len(self.selfie_images))\n",
        "\n",
        "    def __getitem__(self, idx):\n",
        "        real_image = self.real_images[idx % len(self.real_images)]  # Loop through real images\n",
        "        selfie_image = self.selfie_images[idx % len(self.selfie_images)]  # Loop through selfie images\n",
        "        return real_image, selfie_image\n",
        "\n",
        "# Create the dataset\n",
        "dataset = CustomImageDataset(real_images, selfie_images)\n",
        "\n",
        "# Load your dataset using DataLoader\n",
        "dataloader = DataLoader(dataset, batch_size=batch_size, shuffle=True)\n",
        "\n",
        "for epoch in range(num_epochs):\n",
        "    for real_images, selfie_images in dataloader:\n",
        "        real_images = real_images.to(device)\n",
        "        selfie_images = selfie_images.to(device)  # Use the selfie images if needed\n",
        "\n",
        "        # Create labels\n",
        "        real_labels = torch.full((real_images.size(0), 1), 0.9).to(device)  # Real label smoothing\n",
        "        fake_labels = torch.full((real_images.size(0), 1), 0.1).to(device)  # Fake label smoothing\n",
        "\n",
        "\n",
        "        # Train Discriminator\n",
        "        optimizer_D.zero_grad()\n",
        "        output = discriminator(real_images)\n",
        "        loss_D_real = criterion(output, real_labels)\n",
        "\n",
        "        noise = torch.randn(real_images.size(0), latent_dim).to(device)  # Latent space noise\n",
        "        fake_images = generator(noise)\n",
        "        output = discriminator(fake_images.detach())\n",
        "        loss_D_fake = criterion(output, fake_labels)\n",
        "\n",
        "        loss_D = loss_D_real + loss_D_fake\n",
        "        loss_D.backward()\n",
        "        optimizer_D.step()\n",
        "\n",
        "        # Train Generator\n",
        "        optimizer_G.zero_grad()\n",
        "        output = discriminator(fake_images)\n",
        "        loss_G = criterion(output, real_labels)  # Want to fool the discriminator\n",
        "        loss_G.backward()\n",
        "        optimizer_G.step()\n",
        "\n",
        "    print(f'Epoch [{epoch+1}/{num_epochs}], Loss D: {loss_D.item()}, Loss G: {loss_G.item()}')\n"
      ],
      "metadata": {
        "colab": {
          "base_uri": "https://localhost:8080/"
        },
        "id": "BOJno8_TYzdN",
        "outputId": "7e6e8dcc-11fc-434d-ff05-eba6343ad210"
      },
      "execution_count": null,
      "outputs": [
        {
          "output_type": "stream",
          "name": "stdout",
          "text": [
            "Epoch [1/100], Loss D: 1.058280110359192, Loss G: 0.7090227603912354\n",
            "Epoch [2/100], Loss D: 1.2238678932189941, Loss G: 0.7122827768325806\n",
            "Epoch [3/100], Loss D: 2.9160094261169434, Loss G: 0.9068707227706909\n",
            "Epoch [4/100], Loss D: 1.1950573921203613, Loss G: 0.6591204404830933\n",
            "Epoch [5/100], Loss D: 1.0259792804718018, Loss G: 0.7705346941947937\n",
            "Epoch [6/100], Loss D: 1.087127447128296, Loss G: 0.7386795282363892\n",
            "Epoch [7/100], Loss D: 1.0384941101074219, Loss G: 0.7679590582847595\n",
            "Epoch [8/100], Loss D: 1.030881404876709, Loss G: 0.7973692417144775\n",
            "Epoch [9/100], Loss D: 1.0670127868652344, Loss G: 0.7571843266487122\n",
            "Epoch [10/100], Loss D: 1.0315558910369873, Loss G: 0.8014633059501648\n",
            "Epoch [11/100], Loss D: 1.200903058052063, Loss G: 0.7627974152565002\n",
            "Epoch [12/100], Loss D: 1.0928423404693604, Loss G: 0.8190175890922546\n",
            "Epoch [13/100], Loss D: 1.1571204662322998, Loss G: 0.7599086165428162\n",
            "Epoch [14/100], Loss D: 1.0971794128417969, Loss G: 0.9622009992599487\n",
            "Epoch [15/100], Loss D: 1.0341265201568604, Loss G: 0.8518019914627075\n",
            "Epoch [16/100], Loss D: 0.9386150240898132, Loss G: 0.8581539392471313\n",
            "Epoch [17/100], Loss D: 1.0856759548187256, Loss G: 0.8145397901535034\n",
            "Epoch [18/100], Loss D: 1.0781071186065674, Loss G: 0.8594709038734436\n",
            "Epoch [19/100], Loss D: 0.9522440433502197, Loss G: 0.8828240036964417\n",
            "Epoch [20/100], Loss D: 1.074711799621582, Loss G: 0.7332660555839539\n",
            "Epoch [21/100], Loss D: 0.9896800518035889, Loss G: 0.9070464968681335\n",
            "Epoch [22/100], Loss D: 0.9883283376693726, Loss G: 0.8460088968276978\n",
            "Epoch [23/100], Loss D: 1.1410810947418213, Loss G: 0.8928733468055725\n",
            "Epoch [24/100], Loss D: 1.0964165925979614, Loss G: 0.8955360651016235\n",
            "Epoch [25/100], Loss D: 0.9927677512168884, Loss G: 0.8505667448043823\n",
            "Epoch [26/100], Loss D: 1.0680450201034546, Loss G: 0.8998382091522217\n",
            "Epoch [27/100], Loss D: 0.9855198860168457, Loss G: 0.8546121716499329\n",
            "Epoch [28/100], Loss D: 1.0306012630462646, Loss G: 0.869838297367096\n",
            "Epoch [29/100], Loss D: 1.060245394706726, Loss G: 0.829679548740387\n",
            "Epoch [30/100], Loss D: 0.9316538572311401, Loss G: 0.9235420823097229\n",
            "Epoch [31/100], Loss D: 0.9590543508529663, Loss G: 0.896672248840332\n",
            "Epoch [32/100], Loss D: 1.0834014415740967, Loss G: 0.884803056716919\n",
            "Epoch [33/100], Loss D: 0.9512436389923096, Loss G: 0.9195531010627747\n",
            "Epoch [34/100], Loss D: 1.039447546005249, Loss G: 0.8571893572807312\n",
            "Epoch [35/100], Loss D: 0.956403911113739, Loss G: 0.9268266558647156\n",
            "Epoch [36/100], Loss D: 1.0439045429229736, Loss G: 0.8791691660881042\n",
            "Epoch [37/100], Loss D: 0.9575108885765076, Loss G: 0.9416268467903137\n",
            "Epoch [38/100], Loss D: 0.9301344156265259, Loss G: 0.9461241364479065\n",
            "Epoch [39/100], Loss D: 0.9263707399368286, Loss G: 0.9981757402420044\n",
            "Epoch [40/100], Loss D: 0.9382174015045166, Loss G: 0.9707190990447998\n",
            "Epoch [41/100], Loss D: 0.9690426588058472, Loss G: 0.9287170171737671\n",
            "Epoch [42/100], Loss D: 0.9461175203323364, Loss G: 1.018532156944275\n",
            "Epoch [43/100], Loss D: 0.924149751663208, Loss G: 0.9255819916725159\n",
            "Epoch [44/100], Loss D: 0.9831637144088745, Loss G: 0.9885046482086182\n",
            "Epoch [45/100], Loss D: 1.2994465827941895, Loss G: 1.002048134803772\n",
            "Epoch [46/100], Loss D: 0.8826417922973633, Loss G: 1.0105829238891602\n",
            "Epoch [47/100], Loss D: 0.9196446537971497, Loss G: 0.9789501428604126\n",
            "Epoch [48/100], Loss D: 0.8924468159675598, Loss G: 1.0982369184494019\n",
            "Epoch [49/100], Loss D: 0.8659263849258423, Loss G: 1.0883318185806274\n",
            "Epoch [50/100], Loss D: 0.9052075147628784, Loss G: 0.9963719844818115\n",
            "Epoch [51/100], Loss D: 1.0352283716201782, Loss G: 0.91858971118927\n",
            "Epoch [52/100], Loss D: 0.9165178537368774, Loss G: 1.0343645811080933\n",
            "Epoch [53/100], Loss D: 0.895928144454956, Loss G: 1.000290036201477\n",
            "Epoch [54/100], Loss D: 0.9845809936523438, Loss G: 1.0013455152511597\n",
            "Epoch [55/100], Loss D: 0.874140739440918, Loss G: 1.0307399034500122\n",
            "Epoch [56/100], Loss D: 0.9433873891830444, Loss G: 0.9925135374069214\n",
            "Epoch [57/100], Loss D: 1.043156385421753, Loss G: 1.1783299446105957\n",
            "Epoch [58/100], Loss D: 0.8833389282226562, Loss G: 1.0817999839782715\n",
            "Epoch [59/100], Loss D: 1.0606554746627808, Loss G: 1.0445393323898315\n",
            "Epoch [60/100], Loss D: 0.9603993892669678, Loss G: 0.9800012111663818\n",
            "Epoch [61/100], Loss D: 0.8325676918029785, Loss G: 1.0763881206512451\n",
            "Epoch [62/100], Loss D: 0.8425566554069519, Loss G: 1.064427375793457\n",
            "Epoch [63/100], Loss D: 0.8824451565742493, Loss G: 1.081861972808838\n",
            "Epoch [64/100], Loss D: 0.8291469216346741, Loss G: 1.1113134622573853\n",
            "Epoch [65/100], Loss D: 0.8621369004249573, Loss G: 1.0499460697174072\n",
            "Epoch [66/100], Loss D: 0.8278166055679321, Loss G: 1.1171005964279175\n",
            "Epoch [67/100], Loss D: 0.8677756190299988, Loss G: 1.0969079732894897\n",
            "Epoch [68/100], Loss D: 0.8110993504524231, Loss G: 1.1707050800323486\n",
            "Epoch [69/100], Loss D: 0.8256515264511108, Loss G: 1.1145182847976685\n",
            "Epoch [70/100], Loss D: 0.8455185890197754, Loss G: 1.1306370496749878\n",
            "Epoch [71/100], Loss D: 8.954370498657227, Loss G: 0.9955384135246277\n",
            "Epoch [72/100], Loss D: 1.264162302017212, Loss G: 0.891257107257843\n",
            "Epoch [73/100], Loss D: 0.918643593788147, Loss G: 1.0030403137207031\n",
            "Epoch [74/100], Loss D: 0.9082895517349243, Loss G: 1.0888113975524902\n",
            "Epoch [75/100], Loss D: 0.8578991889953613, Loss G: 1.103971004486084\n",
            "Epoch [76/100], Loss D: 0.9372388124465942, Loss G: 1.1824079751968384\n",
            "Epoch [77/100], Loss D: 0.8046623468399048, Loss G: 1.1396584510803223\n",
            "Epoch [78/100], Loss D: 0.8496625423431396, Loss G: 1.1261305809020996\n",
            "Epoch [79/100], Loss D: 0.8284759521484375, Loss G: 1.1434242725372314\n",
            "Epoch [80/100], Loss D: 0.784748911857605, Loss G: 1.2496302127838135\n",
            "Epoch [81/100], Loss D: 0.8417119979858398, Loss G: 1.1138653755187988\n",
            "Epoch [82/100], Loss D: 0.8166722655296326, Loss G: 1.1847292184829712\n",
            "Epoch [83/100], Loss D: 0.8528411984443665, Loss G: 1.2389647960662842\n",
            "Epoch [84/100], Loss D: 0.8501982688903809, Loss G: 1.1897836923599243\n",
            "Epoch [85/100], Loss D: 0.8060388565063477, Loss G: 1.2197891473770142\n",
            "Epoch [86/100], Loss D: 0.928994357585907, Loss G: 1.1150190830230713\n",
            "Epoch [87/100], Loss D: 0.8278430104255676, Loss G: 1.2908110618591309\n",
            "Epoch [88/100], Loss D: 0.8257262706756592, Loss G: 1.1946133375167847\n",
            "Epoch [89/100], Loss D: 0.8060135841369629, Loss G: 1.2327728271484375\n",
            "Epoch [90/100], Loss D: 1.0371237993240356, Loss G: 1.4698127508163452\n",
            "Epoch [91/100], Loss D: 0.8114780187606812, Loss G: 1.2521169185638428\n",
            "Epoch [92/100], Loss D: 0.8038983345031738, Loss G: 1.17890202999115\n",
            "Epoch [93/100], Loss D: 0.8721277117729187, Loss G: 1.3014377355575562\n",
            "Epoch [94/100], Loss D: 0.7937098741531372, Loss G: 1.241727590560913\n",
            "Epoch [95/100], Loss D: 0.8272432088851929, Loss G: 1.2896273136138916\n",
            "Epoch [96/100], Loss D: 0.793398380279541, Loss G: 1.2547624111175537\n",
            "Epoch [97/100], Loss D: 0.7816011905670166, Loss G: 1.258970022201538\n",
            "Epoch [98/100], Loss D: 0.7960801720619202, Loss G: 1.3626168966293335\n",
            "Epoch [99/100], Loss D: 0.7956763505935669, Loss G: 1.274675965309143\n",
            "Epoch [100/100], Loss D: 0.7824649810791016, Loss G: 1.2651684284210205\n"
          ]
        }
      ]
    },
    {
      "cell_type": "code",
      "source": [
        "torch.save(generator.state_dict(), 'generator.pth')\n",
        "torch.save(discriminator.state_dict(), 'discriminator.pth')\n"
      ],
      "metadata": {
        "id": "9Abz25rZYzmY"
      },
      "execution_count": null,
      "outputs": []
    },
    {
      "cell_type": "code",
      "source": [
        "from google.colab import drive\n",
        "drive.mount('/content/drive')\n"
      ],
      "metadata": {
        "colab": {
          "base_uri": "https://localhost:8080/"
        },
        "id": "CPz1jqbvtAeo",
        "outputId": "73ba3a98-0d40-4544-f82d-01aa82def663"
      },
      "execution_count": null,
      "outputs": [
        {
          "output_type": "stream",
          "name": "stdout",
          "text": [
            "Drive already mounted at /content/drive; to attempt to forcibly remount, call drive.mount(\"/content/drive\", force_remount=True).\n"
          ]
        }
      ]
    },
    {
      "cell_type": "code",
      "source": [
        "!cp generator.pth /content/drive/MyDrive/\n"
      ],
      "metadata": {
        "id": "1OHzYn4GtG-r"
      },
      "execution_count": null,
      "outputs": []
    },
    {
      "cell_type": "code",
      "source": [
        "latent_dim = 100  # Example value, should match the one used during training\n",
        "\n",
        "# Initialize your generator model with the correct latent dimension\n",
        "generator = Generator(latent_dim=latent_dim)\n",
        "generator.load_state_dict(torch.load('/content/drive/MyDrive/generator.pth'))\n",
        "generator.eval()  # Set to evaluation mode\n"
      ],
      "metadata": {
        "colab": {
          "base_uri": "https://localhost:8080/"
        },
        "id": "yUgkR9asnZvO",
        "outputId": "f58380ec-562d-4aff-ad0f-399b25593a8c"
      },
      "execution_count": null,
      "outputs": [
        {
          "output_type": "stream",
          "name": "stderr",
          "text": [
            "<ipython-input-34-9633e3cd9023>:5: FutureWarning: You are using `torch.load` with `weights_only=False` (the current default value), which uses the default pickle module implicitly. It is possible to construct malicious pickle data which will execute arbitrary code during unpickling (See https://github.com/pytorch/pytorch/blob/main/SECURITY.md#untrusted-models for more details). In a future release, the default value for `weights_only` will be flipped to `True`. This limits the functions that could be executed during unpickling. Arbitrary objects will no longer be allowed to be loaded via this mode unless they are explicitly allowlisted by the user via `torch.serialization.add_safe_globals`. We recommend you start setting `weights_only=True` for any use case where you don't have full control of the loaded file. Please open an issue on GitHub for any issues related to this experimental feature.\n",
            "  generator.load_state_dict(torch.load('/content/drive/MyDrive/generator.pth'))\n"
          ]
        },
        {
          "output_type": "execute_result",
          "data": {
            "text/plain": [
              "Generator(\n",
              "  (model): Sequential(\n",
              "    (0): Linear(in_features=100, out_features=256, bias=True)\n",
              "    (1): ReLU()\n",
              "    (2): Linear(in_features=256, out_features=512, bias=True)\n",
              "    (3): ReLU()\n",
              "    (4): Linear(in_features=512, out_features=1024, bias=True)\n",
              "    (5): ReLU()\n",
              "    (6): Linear(in_features=1024, out_features=150528, bias=True)\n",
              "    (7): Tanh()\n",
              "  )\n",
              ")"
            ]
          },
          "metadata": {},
          "execution_count": 34
        }
      ]
    },
    {
      "cell_type": "code",
      "source": [
        "!pip install streamlit\n",
        "!pip install pyngrok\n"
      ],
      "metadata": {
        "colab": {
          "base_uri": "https://localhost:8080/"
        },
        "id": "7eC1WG7cPJq7",
        "outputId": "be8ea44d-3abb-43e1-d1b3-132320e0675c",
        "collapsed": true
      },
      "execution_count": null,
      "outputs": [
        {
          "output_type": "stream",
          "name": "stdout",
          "text": [
            "Requirement already satisfied: streamlit in /usr/local/lib/python3.10/dist-packages (1.39.0)\n",
            "Requirement already satisfied: altair<6,>=4.0 in /usr/local/lib/python3.10/dist-packages (from streamlit) (4.2.2)\n",
            "Requirement already satisfied: blinker<2,>=1.0.0 in /usr/lib/python3/dist-packages (from streamlit) (1.4)\n",
            "Requirement already satisfied: cachetools<6,>=4.0 in /usr/local/lib/python3.10/dist-packages (from streamlit) (5.5.0)\n",
            "Requirement already satisfied: click<9,>=7.0 in /usr/local/lib/python3.10/dist-packages (from streamlit) (8.1.7)\n",
            "Requirement already satisfied: numpy<3,>=1.20 in /usr/local/lib/python3.10/dist-packages (from streamlit) (1.26.4)\n",
            "Requirement already satisfied: packaging<25,>=20 in /usr/local/lib/python3.10/dist-packages (from streamlit) (24.1)\n",
            "Requirement already satisfied: pandas<3,>=1.4.0 in /usr/local/lib/python3.10/dist-packages (from streamlit) (2.2.2)\n",
            "Requirement already satisfied: pillow<11,>=7.1.0 in /usr/local/lib/python3.10/dist-packages (from streamlit) (10.4.0)\n",
            "Requirement already satisfied: protobuf<6,>=3.20 in /usr/local/lib/python3.10/dist-packages (from streamlit) (3.20.3)\n",
            "Requirement already satisfied: pyarrow>=7.0 in /usr/local/lib/python3.10/dist-packages (from streamlit) (16.1.0)\n",
            "Requirement already satisfied: requests<3,>=2.27 in /usr/local/lib/python3.10/dist-packages (from streamlit) (2.32.3)\n",
            "Requirement already satisfied: rich<14,>=10.14.0 in /usr/local/lib/python3.10/dist-packages (from streamlit) (13.8.1)\n",
            "Requirement already satisfied: tenacity<10,>=8.1.0 in /usr/local/lib/python3.10/dist-packages (from streamlit) (9.0.0)\n",
            "Requirement already satisfied: toml<2,>=0.10.1 in /usr/local/lib/python3.10/dist-packages (from streamlit) (0.10.2)\n",
            "Requirement already satisfied: typing-extensions<5,>=4.3.0 in /usr/local/lib/python3.10/dist-packages (from streamlit) (4.12.2)\n",
            "Requirement already satisfied: gitpython!=3.1.19,<4,>=3.0.7 in /usr/local/lib/python3.10/dist-packages (from streamlit) (3.1.43)\n",
            "Requirement already satisfied: pydeck<1,>=0.8.0b4 in /usr/local/lib/python3.10/dist-packages (from streamlit) (0.9.1)\n",
            "Requirement already satisfied: tornado<7,>=6.0.3 in /usr/local/lib/python3.10/dist-packages (from streamlit) (6.3.3)\n",
            "Requirement already satisfied: watchdog<6,>=2.1.5 in /usr/local/lib/python3.10/dist-packages (from streamlit) (5.0.3)\n",
            "Requirement already satisfied: entrypoints in /usr/local/lib/python3.10/dist-packages (from altair<6,>=4.0->streamlit) (0.4)\n",
            "Requirement already satisfied: jinja2 in /usr/local/lib/python3.10/dist-packages (from altair<6,>=4.0->streamlit) (3.1.4)\n",
            "Requirement already satisfied: jsonschema>=3.0 in /usr/local/lib/python3.10/dist-packages (from altair<6,>=4.0->streamlit) (4.23.0)\n",
            "Requirement already satisfied: toolz in /usr/local/lib/python3.10/dist-packages (from altair<6,>=4.0->streamlit) (0.12.1)\n",
            "Requirement already satisfied: gitdb<5,>=4.0.1 in /usr/local/lib/python3.10/dist-packages (from gitpython!=3.1.19,<4,>=3.0.7->streamlit) (4.0.11)\n",
            "Requirement already satisfied: python-dateutil>=2.8.2 in /usr/local/lib/python3.10/dist-packages (from pandas<3,>=1.4.0->streamlit) (2.8.2)\n",
            "Requirement already satisfied: pytz>=2020.1 in /usr/local/lib/python3.10/dist-packages (from pandas<3,>=1.4.0->streamlit) (2024.2)\n",
            "Requirement already satisfied: tzdata>=2022.7 in /usr/local/lib/python3.10/dist-packages (from pandas<3,>=1.4.0->streamlit) (2024.2)\n",
            "Requirement already satisfied: charset-normalizer<4,>=2 in /usr/local/lib/python3.10/dist-packages (from requests<3,>=2.27->streamlit) (3.3.2)\n",
            "Requirement already satisfied: idna<4,>=2.5 in /usr/local/lib/python3.10/dist-packages (from requests<3,>=2.27->streamlit) (3.10)\n",
            "Requirement already satisfied: urllib3<3,>=1.21.1 in /usr/local/lib/python3.10/dist-packages (from requests<3,>=2.27->streamlit) (2.2.3)\n",
            "Requirement already satisfied: certifi>=2017.4.17 in /usr/local/lib/python3.10/dist-packages (from requests<3,>=2.27->streamlit) (2024.8.30)\n",
            "Requirement already satisfied: markdown-it-py>=2.2.0 in /usr/local/lib/python3.10/dist-packages (from rich<14,>=10.14.0->streamlit) (3.0.0)\n",
            "Requirement already satisfied: pygments<3.0.0,>=2.13.0 in /usr/local/lib/python3.10/dist-packages (from rich<14,>=10.14.0->streamlit) (2.18.0)\n",
            "Requirement already satisfied: smmap<6,>=3.0.1 in /usr/local/lib/python3.10/dist-packages (from gitdb<5,>=4.0.1->gitpython!=3.1.19,<4,>=3.0.7->streamlit) (5.0.1)\n",
            "Requirement already satisfied: MarkupSafe>=2.0 in /usr/local/lib/python3.10/dist-packages (from jinja2->altair<6,>=4.0->streamlit) (2.1.5)\n",
            "Requirement already satisfied: attrs>=22.2.0 in /usr/local/lib/python3.10/dist-packages (from jsonschema>=3.0->altair<6,>=4.0->streamlit) (24.2.0)\n",
            "Requirement already satisfied: jsonschema-specifications>=2023.03.6 in /usr/local/lib/python3.10/dist-packages (from jsonschema>=3.0->altair<6,>=4.0->streamlit) (2023.12.1)\n",
            "Requirement already satisfied: referencing>=0.28.4 in /usr/local/lib/python3.10/dist-packages (from jsonschema>=3.0->altair<6,>=4.0->streamlit) (0.35.1)\n",
            "Requirement already satisfied: rpds-py>=0.7.1 in /usr/local/lib/python3.10/dist-packages (from jsonschema>=3.0->altair<6,>=4.0->streamlit) (0.20.0)\n",
            "Requirement already satisfied: mdurl~=0.1 in /usr/local/lib/python3.10/dist-packages (from markdown-it-py>=2.2.0->rich<14,>=10.14.0->streamlit) (0.1.2)\n",
            "Requirement already satisfied: six>=1.5 in /usr/local/lib/python3.10/dist-packages (from python-dateutil>=2.8.2->pandas<3,>=1.4.0->streamlit) (1.16.0)\n",
            "Requirement already satisfied: pyngrok in /usr/local/lib/python3.10/dist-packages (7.2.0)\n",
            "Requirement already satisfied: PyYAML>=5.1 in /usr/local/lib/python3.10/dist-packages (from pyngrok) (6.0.2)\n"
          ]
        }
      ]
    },
    {
      "cell_type": "code",
      "source": [
        "import os\n",
        "import torch\n",
        "import torch.nn as nn\n",
        "import numpy as np\n",
        "import streamlit as st\n",
        "from PIL import Image\n",
        "from torchvision import transforms\n",
        "\n",
        "# Define the Generator class\n",
        "class Generator(nn.Module):\n",
        "    def __init__(self, latent_dim):\n",
        "        super(Generator, self).__init__()\n",
        "        self.model = nn.Sequential(\n",
        "            nn.Linear(latent_dim, 256),\n",
        "            nn.ReLU(),\n",
        "            nn.Linear(256, 512),\n",
        "            nn.ReLU(),\n",
        "            nn.Linear(512, 1024),\n",
        "            nn.ReLU(),\n",
        "            nn.Linear(1024, 3 * 224 * 224),  # Output layer for 224x224 RGB images\n",
        "            nn.Tanh()  # Use Tanh to scale output between -1 and 1\n",
        "        )\n",
        "\n",
        "    def forward(self, x):\n",
        "        x = self.model(x)\n",
        "        x = x.view(-1, 3, 224, 224)  # Reshape to image dimensions\n",
        "        return x\n",
        "\n",
        "# Set the device\n",
        "device = torch.device(\"cuda\" if torch.cuda.is_available() else \"cpu\")\n",
        "\n",
        "# Initialize the generator\n",
        "latent_dim = 100\n",
        "generator = Generator(latent_dim=latent_dim).to(device)\n",
        "\n",
        "# Load the generator state_dict\n",
        "generator.load_state_dict(torch.load('/content/drive/MyDrive/generator.pth', map_location=device))\n",
        "generator.eval()\n",
        "\n",
        "# Define the transformation (if needed for input image)\n",
        "transform = transforms.Compose([\n",
        "    transforms.Resize((224, 224)),\n",
        "    transforms.ToTensor(),\n",
        "    transforms.Normalize(mean=[0.485, 0.456, 0.406], std=[0.229, 0.224, 0.225]),\n",
        "])\n",
        "\n",
        "# Function to generate a selfie\n",
        "def generate_selfie():\n",
        "    with torch.no_grad():\n",
        "        latent_vector = torch.randn(1, latent_dim).to(device)  # Generate random latent vector\n",
        "        generated_selfie = generator(latent_vector)\n",
        "    generated_selfie = generated_selfie.squeeze(0).cpu().numpy()  # Remove batch dimension\n",
        "    generated_selfie = (generated_selfie * 0.5 + 0.5) * 255  # Rescale to [0, 255]\n",
        "    generated_selfie = generated_selfie.astype(np.uint8)\n",
        "    generated_selfie_image = Image.fromarray(generated_selfie.transpose(1, 2, 0))  # Convert to PIL Image\n",
        "    return generated_selfie_image\n",
        "\n",
        "# Streamlit app\n",
        "st.title(\"Selfie Generator\")\n",
        "st.write(\"Upload an image to generate a selfie!\")\n",
        "\n",
        "uploaded_file = st.file_uploader(\"Choose an image...\", type=[\"jpg\", \"jpeg\", \"png\"])\n",
        "\n",
        "if uploaded_file is not None:\n",
        "    # Load the uploaded image\n",
        "    user_image = Image.open(uploaded_file)\n",
        "    st.image(user_image, caption='Uploaded Image', use_column_width=True)\n",
        "\n",
        "    # Generate and display the selfie\n",
        "    if st.button(\"Generate Selfie\"):\n",
        "        generated_selfie = generate_selfie()\n",
        "        st.image(generated_selfie, caption='Generated Selfie', use_column_width=True)\n"
      ],
      "metadata": {
        "colab": {
          "base_uri": "https://localhost:8080/"
        },
        "id": "e5NeOOEjvy5j",
        "outputId": "0c672359-06ca-421c-da3f-eae29380fc45"
      },
      "execution_count": null,
      "outputs": [
        {
          "output_type": "stream",
          "name": "stderr",
          "text": [
            "<ipython-input-36-7bc6927151e1>:37: FutureWarning: You are using `torch.load` with `weights_only=False` (the current default value), which uses the default pickle module implicitly. It is possible to construct malicious pickle data which will execute arbitrary code during unpickling (See https://github.com/pytorch/pytorch/blob/main/SECURITY.md#untrusted-models for more details). In a future release, the default value for `weights_only` will be flipped to `True`. This limits the functions that could be executed during unpickling. Arbitrary objects will no longer be allowed to be loaded via this mode unless they are explicitly allowlisted by the user via `torch.serialization.add_safe_globals`. We recommend you start setting `weights_only=True` for any use case where you don't have full control of the loaded file. Please open an issue on GitHub for any issues related to this experimental feature.\n",
            "  generator.load_state_dict(torch.load('/content/drive/MyDrive/generator.pth', map_location=device))\n",
            "2024-10-02 10:35:31.190 WARNING streamlit.runtime.scriptrunner_utils.script_run_context: Thread 'MainThread': missing ScriptRunContext! This warning can be ignored when running in bare mode.\n",
            "2024-10-02 10:35:31.292 \n",
            "  \u001b[33m\u001b[1mWarning:\u001b[0m to view this Streamlit app on a browser, run it with the following\n",
            "  command:\n",
            "\n",
            "    streamlit run /usr/local/lib/python3.10/dist-packages/colab_kernel_launcher.py [ARGUMENTS]\n",
            "2024-10-02 10:35:31.296 Thread 'MainThread': missing ScriptRunContext! This warning can be ignored when running in bare mode.\n",
            "2024-10-02 10:35:31.298 Thread 'MainThread': missing ScriptRunContext! This warning can be ignored when running in bare mode.\n",
            "2024-10-02 10:35:31.303 Thread 'MainThread': missing ScriptRunContext! This warning can be ignored when running in bare mode.\n",
            "2024-10-02 10:35:31.306 Thread 'MainThread': missing ScriptRunContext! This warning can be ignored when running in bare mode.\n",
            "2024-10-02 10:35:31.309 Thread 'MainThread': missing ScriptRunContext! This warning can be ignored when running in bare mode.\n",
            "2024-10-02 10:35:31.315 Thread 'MainThread': missing ScriptRunContext! This warning can be ignored when running in bare mode.\n",
            "2024-10-02 10:35:31.319 Thread 'MainThread': missing ScriptRunContext! This warning can be ignored when running in bare mode.\n",
            "2024-10-02 10:35:31.321 Thread 'MainThread': missing ScriptRunContext! This warning can be ignored when running in bare mode.\n",
            "2024-10-02 10:35:31.322 Thread 'MainThread': missing ScriptRunContext! This warning can be ignored when running in bare mode.\n",
            "2024-10-02 10:35:31.324 Thread 'MainThread': missing ScriptRunContext! This warning can be ignored when running in bare mode.\n"
          ]
        }
      ]
    },
    {
      "cell_type": "code",
      "source": [
        "!streamlit run /usr/local/lib/python3.10/dist-packages/colab_kernel_launcher.py"
      ],
      "metadata": {
        "colab": {
          "base_uri": "https://localhost:8080/"
        },
        "id": "BKesIqAQwLAC",
        "outputId": "e5878cff-e56b-4bd9-eb8e-9dff6de77fd3"
      },
      "execution_count": null,
      "outputs": [
        {
          "output_type": "stream",
          "name": "stdout",
          "text": [
            "\n",
            "Collecting usage statistics. To deactivate, set browser.gatherUsageStats to false.\n",
            "\u001b[0m\n",
            "\u001b[0m\n",
            "\u001b[34m\u001b[1m  You can now view your Streamlit app in your browser.\u001b[0m\n",
            "\u001b[0m\n",
            "\u001b[34m  Local URL: \u001b[0m\u001b[1mhttp://localhost:8501\u001b[0m\n",
            "\u001b[34m  Network URL: \u001b[0m\u001b[1mhttp://172.28.0.12:8501\u001b[0m\n",
            "\u001b[34m  External URL: \u001b[0m\u001b[1mhttp://34.145.12.93:8501\u001b[0m\n",
            "\u001b[0m\n"
          ]
        }
      ]
    },
    {
      "cell_type": "code",
      "source": [
        "import os\n",
        "import torch\n",
        "import numpy as np\n",
        "import streamlit as st\n",
        "from PIL import Image\n",
        "from torchvision import transforms\n",
        "from your_gan_model import Generator  # Import your generator class here\n",
        "\n",
        "# Set the device (GPU if available)\n",
        "device = torch.device(\"cuda\" if torch.cuda.is_available() else \"cpu\")\n",
        "\n",
        "# Load the trained generator model\n",
        "latent_dim = 100  # Match with your training setup\n",
        "generator = Generator(latent_dim).to(device)  # Move model to device\n",
        "generator.load_state_dict(torch.load('generator.pth', map_location=device))\n",
        "generator.eval()\n",
        "\n",
        "# Define the transformation (only if necessary for user image)\n",
        "transform = transforms.Compose([\n",
        "    transforms.Resize((224, 224)),\n",
        "    transforms.ToTensor(),\n",
        "    transforms.Normalize(mean=[0.485, 0.456, 0.406], std=[0.229, 0.224, 0.225]),\n",
        "])\n",
        "\n",
        "# Function to generate a selfie\n",
        "def generate_selfie():\n",
        "    # Generate the selfie using the generator\n",
        "    with torch.no_grad():\n",
        "        latent_vector = torch.randn(1, latent_dim).to(device)  # Generate random latent vector\n",
        "        generated_selfie = generator(latent_vector)\n",
        "\n",
        "    # Convert tensor to image\n",
        "    generated_selfie = generated_selfie.squeeze(0).cpu().numpy()  # Remove batch dimension\n",
        "    generated_selfie = (generated_selfie * 0.5 + 0.5) * 255  # Rescale to [0, 255]\n",
        "    generated_selfie = generated_selfie.astype(np.uint8)\n",
        "    generated_selfie_image = Image.fromarray(generated_selfie.transpose(1, 2, 0))  # Convert to PIL Image\n",
        "\n",
        "    return generated_selfie_image\n",
        "\n",
        "# Streamlit app\n",
        "st.title(\"Selfie Generator\")\n",
        "st.write(\"Click the button below to generate a random selfie!\")\n",
        "\n",
        "# Generate and display the selfie when button is clicked\n",
        "if st.button(\"Generate Selfie\"):\n",
        "    generated_selfie = generate_selfie()\n",
        "    st.image(generated_selfie, caption='Generated Selfie', use_column_width=True)\n"
      ],
      "metadata": {
        "colab": {
          "base_uri": "https://localhost:8080/",
          "height": 403
        },
        "id": "Cw-3tmIsnZwY",
        "outputId": "5ed8bf5d-f158-4c5e-a12c-383db5a12955"
      },
      "execution_count": null,
      "outputs": [
        {
          "output_type": "error",
          "ename": "ModuleNotFoundError",
          "evalue": "No module named 'your_gan_model'",
          "traceback": [
            "\u001b[0;31m---------------------------------------------------------------------------\u001b[0m",
            "\u001b[0;31mModuleNotFoundError\u001b[0m                       Traceback (most recent call last)",
            "\u001b[0;32m<ipython-input-15-a9f38e327fff>\u001b[0m in \u001b[0;36m<cell line: 7>\u001b[0;34m()\u001b[0m\n\u001b[1;32m      5\u001b[0m \u001b[0;32mfrom\u001b[0m \u001b[0mPIL\u001b[0m \u001b[0;32mimport\u001b[0m \u001b[0mImage\u001b[0m\u001b[0;34m\u001b[0m\u001b[0;34m\u001b[0m\u001b[0m\n\u001b[1;32m      6\u001b[0m \u001b[0;32mfrom\u001b[0m \u001b[0mtorchvision\u001b[0m \u001b[0;32mimport\u001b[0m \u001b[0mtransforms\u001b[0m\u001b[0;34m\u001b[0m\u001b[0;34m\u001b[0m\u001b[0m\n\u001b[0;32m----> 7\u001b[0;31m \u001b[0;32mfrom\u001b[0m \u001b[0myour_gan_model\u001b[0m \u001b[0;32mimport\u001b[0m \u001b[0mGenerator\u001b[0m  \u001b[0;31m# Import your generator class here\u001b[0m\u001b[0;34m\u001b[0m\u001b[0;34m\u001b[0m\u001b[0m\n\u001b[0m\u001b[1;32m      8\u001b[0m \u001b[0;34m\u001b[0m\u001b[0m\n\u001b[1;32m      9\u001b[0m \u001b[0;31m# Set the device (GPU if available)\u001b[0m\u001b[0;34m\u001b[0m\u001b[0;34m\u001b[0m\u001b[0m\n",
            "\u001b[0;31mModuleNotFoundError\u001b[0m: No module named 'your_gan_model'",
            "",
            "\u001b[0;31m---------------------------------------------------------------------------\u001b[0;32m\nNOTE: If your import is failing due to a missing package, you can\nmanually install dependencies using either !pip or !apt.\n\nTo view examples of installing some common dependencies, click the\n\"Open Examples\" button below.\n\u001b[0;31m---------------------------------------------------------------------------\u001b[0m\n"
          ],
          "errorDetails": {
            "actions": [
              {
                "action": "open_url",
                "actionText": "Open Examples",
                "url": "/notebooks/snippets/importing_libraries.ipynb"
              }
            ]
          }
        }
      ]
    },
    {
      "cell_type": "code",
      "source": [],
      "metadata": {
        "id": "pJIJpKI1nZ0F"
      },
      "execution_count": null,
      "outputs": []
    },
    {
      "cell_type": "code",
      "source": [],
      "metadata": {
        "id": "rdef2Ii3nZ17"
      },
      "execution_count": null,
      "outputs": []
    },
    {
      "cell_type": "code",
      "source": [],
      "metadata": {
        "id": "m19PdlfOnZ52"
      },
      "execution_count": null,
      "outputs": []
    },
    {
      "cell_type": "code",
      "source": [],
      "metadata": {
        "id": "pk0t_PtFnZ7d"
      },
      "execution_count": null,
      "outputs": []
    },
    {
      "cell_type": "code",
      "source": [],
      "metadata": {
        "id": "8umojJsRnaAF"
      },
      "execution_count": null,
      "outputs": []
    },
    {
      "cell_type": "code",
      "source": [],
      "metadata": {
        "id": "6g-OVI7snaB2"
      },
      "execution_count": null,
      "outputs": []
    },
    {
      "cell_type": "code",
      "source": [
        "!git clone https://github.com/junyanz/pytorch-CycleGAN-and-pix2pix.git\n",
        "%cd pytorch-CycleGAN-and-pix2pix\n",
        "!pip install -r requirements.txt\n"
      ],
      "metadata": {
        "id": "KW3zq4tAN9B2"
      },
      "execution_count": null,
      "outputs": []
    },
    {
      "cell_type": "code",
      "source": [
        "from google.colab import drive\n",
        "drive.mount('/content/drive')\n"
      ],
      "metadata": {
        "id": "63p08BZweZV-"
      },
      "execution_count": null,
      "outputs": []
    },
    {
      "cell_type": "code",
      "source": [
        "!python train.py --dataroot /content/drive/MyDrive/ColabNotebooks/datasets --name cycle_gan_experiment --model cycle_gan --display_id -1\n"
      ],
      "metadata": {
        "id": "lCRKBGpDeoT9"
      },
      "execution_count": null,
      "outputs": []
    },
    {
      "cell_type": "code",
      "source": [
        "import os\n",
        "\n",
        "# List contents of the datasets directory\n",
        "dataset_path = '/content/drive/MyDrive/ColabNotebooks/datasets'\n",
        "print(\"Contents of datasets directory:\", os.listdir(dataset_path))\n",
        "\n",
        "# List contents of trainA directory\n",
        "trainA_path = os.path.join(dataset_path, 'NonSelfie')\n",
        "print(\"Contents of trainA directory:\", os.listdir(trainA_path))\n",
        "\n",
        "# List contents of trainB directory\n",
        "trainB_path = os.path.join(dataset_path, 'Selfie')\n",
        "print(\"Contents of trainB directory:\", os.listdir(trainB_path))\n"
      ],
      "metadata": {
        "colab": {
          "base_uri": "https://localhost:8080/"
        },
        "id": "D5-jMpbKe20I",
        "outputId": "fd57caef-8b0e-4773-bc99-1458e8aed091"
      },
      "execution_count": null,
      "outputs": [
        {
          "output_type": "stream",
          "name": "stdout",
          "text": [
            "Contents of datasets directory: ['Selfie', 'NonSelfie']\n",
            "Contents of trainA directory: ['NonSelfie10221.jpg', 'NonSelfie1022.jpg', 'NonSelfie10224.jpg', 'NonSelfie10209.jpg', 'NonSelfie10223.jpg', 'NonSelfie10220.jpg', 'NonSelfie10215.jpg', 'NonSelfie10210.jpg', 'NonSelfie10214.jpg', 'NonSelfie10225.jpg', 'NonSelfie10240.jpg', 'NonSelfie10236.jpg', 'NonSelfie10239.jpg', 'NonSelfie10232.jpg', 'NonSelfie10235.jpg', 'NonSelfie10228.jpg', 'NonSelfie10231.jpg', 'NonSelfie10226.jpg', 'NonSelfie10233.jpg', 'NonSelfie10227.jpg', 'NonSelfie10237.jpg', 'NonSelfie10238.jpg', 'NonSelfie10229.jpg', 'NonSelfie10230.jpg', 'NonSelfie10234.jpg', 'NonSelfie1024.jpg', 'NonSelfie1023.jpg', 'NonSelfie10258.jpg', 'NonSelfie10247.jpg', 'NonSelfie10255.jpg', 'NonSelfie10256.jpg', 'NonSelfie10252.jpg', 'NonSelfie10253.jpg', 'NonSelfie10245.jpg', 'NonSelfie10244.jpg', 'NonSelfie10243.jpg', 'NonSelfie10242.jpg', 'NonSelfie10254.jpg', 'NonSelfie10241.jpg', 'NonSelfie1025.jpg', 'NonSelfie10248.jpg', 'NonSelfie10251.jpg', 'NonSelfie10250.jpg', 'NonSelfie10246.jpg', 'NonSelfie10249.jpg', 'NonSelfie10257.jpg', 'NonSelfie1026.jpg', 'NonSelfie10262.jpg', 'NonSelfie10265.jpg', 'NonSelfie10261.jpg', 'NonSelfie10267.jpg', 'NonSelfie10269.jpg', 'NonSelfie10259.jpg', 'NonSelfie10272.jpg', 'NonSelfie10264.jpg', 'NonSelfie10268.jpg', 'NonSelfie10271.jpg', 'NonSelfie1027.jpg', 'NonSelfie10263.jpg', 'NonSelfie10260.jpg', 'NonSelfie10266.jpg', 'NonSelfie10270.jpg', 'NonSelfie10284.jpg', 'NonSelfie10283.jpg', 'NonSelfie10282.jpg', 'NonSelfie10274.jpg', 'NonSelfie10277.jpg', 'NonSelfie10275.jpg', 'NonSelfie10285.jpg', 'NonSelfie10286.jpg', 'NonSelfie10276.jpg', 'NonSelfie10287.jpg', 'NonSelfie10279.jpg', 'NonSelfie10278.jpg', 'NonSelfie10281.jpg', 'NonSelfie10280.jpg', 'NonSelfie1028.jpg', 'NonSelfie10273.jpg', 'NonSelfie10297.jpg', 'NonSelfie103.jpg', 'NonSelfie10294.jpg', 'NonSelfie10299.jpg', 'NonSelfie10289.jpg', 'NonSelfie10291.jpg', 'NonSelfie1030.jpg', 'NonSelfie10292.jpg', 'NonSelfie10288.jpg', 'NonSelfie10295.jpg', 'NonSelfie10290.jpg', 'NonSelfie10296.jpg', 'NonSelfie10300.jpg', 'NonSelfie10293.jpg', 'NonSelfie10298.jpg', 'NonSelfie1029.jpg', 'NonSelfie10313.jpg', 'NonSelfie10312.jpg', 'NonSelfie10307.jpg', 'NonSelfie10302.jpg', 'NonSelfie10308.jpg', 'NonSelfie10314.jpg', 'NonSelfie10315.jpg', 'NonSelfie10306.jpg', 'NonSelfie10311.jpg', 'NonSelfie10310.jpg', 'NonSelfie10305.jpg', 'NonSelfie1031.jpg', 'NonSelfie10316.jpg', 'NonSelfie10303.jpg', 'NonSelfie10309.jpg', 'NonSelfie10301.jpg', 'NonSelfie10304.jpg', 'NonSelfie10322.jpg', 'NonSelfie10318.jpg', 'NonSelfie10327.jpg', 'NonSelfie10323.jpg', 'NonSelfie10325.jpg', 'NonSelfie10328.jpg', 'NonSelfie10319.jpg', 'NonSelfie10329.jpg', 'NonSelfie10326.jpg', 'NonSelfie1032.jpg', 'NonSelfie10324.jpg', 'NonSelfie10320.jpg', 'NonSelfie10321.jpg', 'NonSelfie1033.jpg', 'NonSelfie10330.jpg', 'NonSelfie10317.jpg', 'NonSelfie10339.jpg', 'NonSelfie10334.jpg', 'NonSelfie10341.jpg', 'NonSelfie10343.jpg', 'NonSelfie10333.jpg', 'NonSelfie10336.jpg', 'NonSelfie10342.jpg', 'NonSelfie10344.jpg', 'NonSelfie10335.jpg', 'NonSelfie10337.jpg', 'NonSelfie1034.jpg', 'NonSelfie10331.jpg', 'NonSelfie10345.jpg', 'NonSelfie10338.jpg', 'NonSelfie10340.jpg', 'NonSelfie10347.jpg', 'NonSelfie10332.jpg', 'NonSelfie10346.jpg', 'NonSelfie10360.jpg', 'NonSelfie10356.jpg', 'NonSelfie10350.jpg', 'NonSelfie10353.jpg', 'NonSelfie10354.jpg', 'NonSelfie10352.jpg', 'NonSelfie10355.jpg', 'NonSelfie10349.jpg', 'NonSelfie10351.jpg', 'NonSelfie10359.jpg', 'NonSelfie10357.jpg', 'NonSelfie10348.jpg', 'NonSelfie10358.jpg', 'NonSelfie1035.jpg', 'NonSelfie1036.jpg', 'NonSelfie10361.jpg', 'NonSelfie10362.jpg', 'NonSelfie10363.jpg', 'NonSelfie10372.jpg', 'NonSelfie10364.jpg', 'NonSelfie10367.jpg', 'NonSelfie10366.jpg', 'NonSelfie10379.jpg', 'NonSelfie10373.jpg', 'NonSelfie10369.jpg', 'NonSelfie10365.jpg', 'NonSelfie10371.jpg', 'NonSelfie10368.jpg', 'NonSelfie1037.jpg', 'NonSelfie10378.jpg', 'NonSelfie10374.jpg', 'NonSelfie10377.jpg', 'NonSelfie10370.jpg', 'NonSelfie10376.jpg', 'NonSelfie10375.jpg', 'NonSelfie10384.jpg', 'NonSelfie10383.jpg', 'NonSelfie10382.jpg', 'NonSelfie10389.jpg', 'NonSelfie10381.jpg', 'NonSelfie10388.jpg', 'NonSelfie10387.jpg', 'NonSelfie10380.jpg', 'NonSelfie10391.jpg', 'NonSelfie1039.jpg', 'NonSelfie10393.jpg', 'NonSelfie10390.jpg', 'NonSelfie10392.jpg', 'NonSelfie1038.jpg', 'NonSelfie10394.jpg', 'NonSelfie10385.jpg', 'NonSelfie10386.jpg', 'NonSelfie10395.jpg', 'NonSelfie10399.jpg', 'NonSelfie10401.jpg', 'NonSelfie10402.jpg', 'NonSelfie10403.jpg', 'NonSelfie10400.jpg', 'NonSelfie10408.jpg', 'NonSelfie1040.jpg', 'NonSelfie10409.jpg', 'NonSelfie10410.jpg', 'NonSelfie10397.jpg', 'NonSelfie1041.jpg', 'NonSelfie104.jpg', 'NonSelfie10405.jpg', 'NonSelfie10406.jpg', 'NonSelfie10398.jpg', 'NonSelfie10407.jpg', 'NonSelfie10396.jpg', 'NonSelfie10404.jpg', 'NonSelfie10425.jpg', 'NonSelfie10415.jpg', 'NonSelfie10412.jpg', 'NonSelfie10420.jpg', 'NonSelfie10413.jpg', 'NonSelfie10424.jpg', 'NonSelfie10419.jpg', 'NonSelfie10422.jpg', 'NonSelfie10421.jpg', 'NonSelfie10416.jpg', 'NonSelfie10417.jpg', 'NonSelfie10411.jpg', 'NonSelfie10423.jpg', 'NonSelfie10427.jpg', 'NonSelfie10418.jpg', 'NonSelfie10426.jpg', 'NonSelfie1042.jpg', 'NonSelfie10414.jpg', 'NonSelfie10435.jpg', 'NonSelfie10430.jpg', 'NonSelfie1043.jpg', 'NonSelfie10440.jpg', 'NonSelfie10433.jpg', 'NonSelfie1044.jpg', 'NonSelfie10442.jpg', 'NonSelfie10437.jpg', 'NonSelfie10432.jpg', 'NonSelfie10439.jpg', 'NonSelfie10429.jpg', 'NonSelfie10434.jpg', 'NonSelfie10441.jpg', 'NonSelfie10428.jpg', 'NonSelfie10436.jpg', 'NonSelfie10438.jpg', 'NonSelfie10431.jpg', 'NonSelfie10449.jpg', 'NonSelfie10450.jpg', 'NonSelfie10448.jpg', 'NonSelfie10445.jpg', 'NonSelfie10443.jpg', 'NonSelfie10458.jpg', 'NonSelfie10459.jpg', 'NonSelfie10446.jpg', 'NonSelfie10452.jpg', 'NonSelfie10444.jpg', 'NonSelfie1045.jpg', 'NonSelfie10456.jpg', 'NonSelfie10451.jpg', 'NonSelfie10447.jpg', 'NonSelfie10455.jpg', 'NonSelfie10454.jpg', 'NonSelfie10453.jpg', 'NonSelfie10457.jpg', 'NonSelfie10460.jpg', 'NonSelfie10473.jpg', 'NonSelfie10461.jpg', 'NonSelfie10464.jpg', 'NonSelfie10471.jpg', 'NonSelfie10465.jpg', 'NonSelfie1046.jpg', 'NonSelfie10472.jpg', 'NonSelfie10463.jpg', 'NonSelfie10469.jpg', 'NonSelfie1047.jpg', 'NonSelfie10462.jpg', 'NonSelfie10474.jpg', 'NonSelfie10466.jpg', 'NonSelfie10467.jpg', 'NonSelfie10470.jpg', 'NonSelfie10468.jpg', 'NonSelfie10480.jpg', 'NonSelfie10477.jpg', 'NonSelfie10479.jpg', 'NonSelfie10489.jpg', 'NonSelfie10488.jpg', 'NonSelfie10475.jpg', 'NonSelfie10483.jpg', 'NonSelfie10484.jpg', 'NonSelfie10485.jpg', 'NonSelfie10481.jpg', 'NonSelfie10487.jpg', 'NonSelfie1048.jpg', 'NonSelfie10486.jpg', 'NonSelfie10476.jpg', 'NonSelfie10478.jpg', 'NonSelfie1049.jpg', 'NonSelfie10482.jpg', 'NonSelfie10494.jpg', 'NonSelfie10501.jpg', 'NonSelfie10495.jpg', 'NonSelfie105.jpg', 'NonSelfie10491.jpg', 'NonSelfie10502.jpg', 'NonSelfie10490.jpg', 'NonSelfie1050.jpg', 'NonSelfie10504.jpg', 'NonSelfie10498.jpg', 'NonSelfie10499.jpg', 'NonSelfie10500.jpg', 'NonSelfie10493.jpg', 'NonSelfie10503.jpg', 'NonSelfie10497.jpg', 'NonSelfie10492.jpg', 'NonSelfie10496.jpg', 'NonSelfie10518.jpg', 'NonSelfie1052.jpg', 'NonSelfie10516.jpg', 'NonSelfie10510.jpg', 'NonSelfie10506.jpg', 'NonSelfie1051.jpg', 'NonSelfie10507.jpg', 'NonSelfie10519.jpg', 'NonSelfie10505.jpg', 'NonSelfie10517.jpg', 'NonSelfie10515.jpg', 'NonSelfie10520.jpg', 'NonSelfie10509.jpg', 'NonSelfie10508.jpg', 'NonSelfie10512.jpg', 'NonSelfie10514.jpg', 'NonSelfie10513.jpg', 'NonSelfie10511.jpg', 'NonSelfie10525.jpg', 'NonSelfie10535.jpg', 'NonSelfie10527.jpg', 'NonSelfie10524.jpg', 'NonSelfie10522.jpg', 'NonSelfie10536.jpg', 'NonSelfie10533.jpg', 'NonSelfie10521.jpg', 'NonSelfie10529.jpg', 'NonSelfie10534.jpg', 'NonSelfie10526.jpg', 'NonSelfie10531.jpg', 'NonSelfie10532.jpg', 'NonSelfie10530.jpg', 'NonSelfie10528.jpg', 'NonSelfie10537.jpg', 'NonSelfie10523.jpg', 'NonSelfie1053.jpg', 'NonSelfie10547.jpg', 'NonSelfie10551.jpg', 'NonSelfie10542.jpg', 'NonSelfie10543.jpg', 'NonSelfie10554.jpg', 'NonSelfie1054.jpg', 'NonSelfie10549.jpg', 'NonSelfie10545.jpg', 'NonSelfie10552.jpg', 'NonSelfie10548.jpg', 'NonSelfie10550.jpg', 'NonSelfie10546.jpg', 'NonSelfie1055.jpg', 'NonSelfie10540.jpg', 'NonSelfie10553.jpg', 'NonSelfie10541.jpg', 'NonSelfie10538.jpg', 'NonSelfie10539.jpg', 'NonSelfie10544.jpg', 'NonSelfie10570.jpg', 'NonSelfie10563.jpg', 'NonSelfie10556.jpg', 'NonSelfie10565.jpg', 'NonSelfie10555.jpg', 'NonSelfie1056.jpg', 'NonSelfie10569.jpg', 'NonSelfie10567.jpg', 'NonSelfie10566.jpg', 'NonSelfie10560.jpg', 'NonSelfie1057.jpg', 'NonSelfie10562.jpg', 'NonSelfie10561.jpg', 'NonSelfie10558.jpg', 'NonSelfie10557.jpg', 'NonSelfie10568.jpg', 'NonSelfie10564.jpg', 'NonSelfie10559.jpg', 'NonSelfie10574.jpg', 'NonSelfie10580.jpg', 'NonSelfie10578.jpg', 'NonSelfie10575.jpg', 'NonSelfie10583.jpg', 'NonSelfie10582.jpg', 'NonSelfie10584.jpg', 'NonSelfie10579.jpg', 'NonSelfie10571.jpg', 'NonSelfie10573.jpg', 'NonSelfie1058.jpg', 'NonSelfie10577.jpg', 'NonSelfie10572.jpg', 'NonSelfie10576.jpg', 'NonSelfie10581.jpg', 'NonSelfie10599.jpg', 'NonSelfie1059.jpg', 'NonSelfie10590.jpg', 'NonSelfie10594.jpg', 'NonSelfie10585.jpg', 'NonSelfie10598.jpg', 'NonSelfie10597.jpg', 'NonSelfie10587.jpg', 'NonSelfie10592.jpg', 'NonSelfie10586.jpg', 'NonSelfie106.jpg', 'NonSelfie10595.jpg', 'NonSelfie10593.jpg', 'NonSelfie10588.jpg', 'NonSelfie10591.jpg', 'NonSelfie10596.jpg', 'NonSelfie10589.jpg', 'NonSelfie10603.jpg', 'NonSelfie1061.jpg', 'NonSelfie10608.jpg', 'NonSelfie10613.jpg', 'NonSelfie10609.jpg', 'NonSelfie10605.jpg', 'NonSelfie10607.jpg', 'NonSelfie1060.jpg', 'NonSelfie10611.jpg', 'NonSelfie10610.jpg', 'NonSelfie10602.jpg', 'NonSelfie10606.jpg', 'NonSelfie10601.jpg', 'NonSelfie10614.jpg', 'NonSelfie10604.jpg', 'NonSelfie10600.jpg', 'NonSelfie10612.jpg', 'NonSelfie10618.jpg', 'NonSelfie10622.jpg', 'NonSelfie10624.jpg', 'NonSelfie10617.jpg', 'NonSelfie10621.jpg', 'NonSelfie10620.jpg', 'NonSelfie10615.jpg', 'NonSelfie10623.jpg', 'NonSelfie10616.jpg', 'NonSelfie10627.jpg', 'NonSelfie1063.jpg', 'NonSelfie1062.jpg', 'NonSelfie10625.jpg', 'NonSelfie10629.jpg', 'NonSelfie10626.jpg', 'NonSelfie10619.jpg', 'NonSelfie10628.jpg', 'NonSelfie10632.jpg', 'NonSelfie10643.jpg', 'NonSelfie10640.jpg', 'NonSelfie10644.jpg', 'NonSelfie10637.jpg', 'NonSelfie10634.jpg', 'NonSelfie10635.jpg', 'NonSelfie10636.jpg', 'NonSelfie10630.jpg', 'NonSelfie1064.jpg', 'NonSelfie10638.jpg', 'NonSelfie10631.jpg', 'NonSelfie10633.jpg', 'NonSelfie10639.jpg', 'NonSelfie10642.jpg', 'NonSelfie10641.jpg', 'NonSelfie10650.jpg', 'NonSelfie1065.jpg', 'NonSelfie10655.jpg', 'NonSelfie10649.jpg', 'NonSelfie10657.jpg', 'NonSelfie10647.jpg', 'NonSelfie10658.jpg', 'NonSelfie10654.jpg', 'NonSelfie10646.jpg', 'NonSelfie10648.jpg', 'NonSelfie10652.jpg', 'NonSelfie10653.jpg', 'NonSelfie10645.jpg', 'NonSelfie10651.jpg', 'NonSelfie10656.jpg', 'NonSelfie10662.jpg', 'NonSelfie10665.jpg', 'NonSelfie10666.jpg', 'NonSelfie10668.jpg', 'NonSelfie10671.jpg', 'NonSelfie1066.jpg', 'NonSelfie10672.jpg', 'NonSelfie10661.jpg', 'NonSelfie10670.jpg', 'NonSelfie1067.jpg', 'NonSelfie10659.jpg', 'NonSelfie10667.jpg', 'NonSelfie10673.jpg', 'NonSelfie10669.jpg', 'NonSelfie10664.jpg', 'NonSelfie10663.jpg', 'NonSelfie10660.jpg', 'NonSelfie10675.jpg', 'NonSelfie1069.jpg', 'NonSelfie10680.jpg', 'NonSelfie10676.jpg', 'NonSelfie10688.jpg', 'NonSelfie10677.jpg', 'NonSelfie10687.jpg', 'NonSelfie10686.jpg', 'NonSelfie10684.jpg', 'NonSelfie10679.jpg', 'NonSelfie10681.jpg', 'NonSelfie10678.jpg', 'NonSelfie10683.jpg', 'NonSelfie10685.jpg', 'NonSelfie10674.jpg', 'NonSelfie10682.jpg', 'NonSelfie10689.jpg', 'NonSelfie1068.jpg', 'NonSelfie10697.jpg', 'NonSelfie10702.jpg', 'NonSelfie10700.jpg', 'NonSelfie10705.jpg', 'NonSelfie10703.jpg', 'NonSelfie10704.jpg', 'NonSelfie10692.jpg', 'NonSelfie10706.jpg', 'NonSelfie10693.jpg', 'NonSelfie10699.jpg', 'NonSelfie10701.jpg', 'NonSelfie10691.jpg', 'NonSelfie10695.jpg', 'NonSelfie1070.jpg', 'NonSelfie10698.jpg', 'NonSelfie10694.jpg', 'NonSelfie10690.jpg', 'NonSelfie107.jpg', 'NonSelfie10696.jpg', 'NonSelfie10719.jpg', 'NonSelfie10720.jpg', 'NonSelfie10712.jpg', 'NonSelfie10715.jpg', 'NonSelfie10713.jpg', 'NonSelfie10710.jpg', 'NonSelfie10721.jpg', 'NonSelfie10709.jpg', 'NonSelfie10717.jpg', 'NonSelfie10707.jpg', 'NonSelfie10711.jpg', 'NonSelfie10716.jpg', 'NonSelfie1071.jpg', 'NonSelfie10708.jpg', 'NonSelfie10714.jpg', 'NonSelfie1072.jpg', 'NonSelfie10718.jpg', 'NonSelfie1073.jpg', 'NonSelfie10736.jpg', 'NonSelfie10723.jpg', 'NonSelfie10728.jpg', 'NonSelfie10722.jpg', 'NonSelfie10729.jpg', 'NonSelfie10725.jpg', 'NonSelfie10733.jpg', 'NonSelfie10731.jpg', 'NonSelfie10737.jpg', 'NonSelfie10735.jpg', 'NonSelfie10732.jpg', 'NonSelfie10727.jpg', 'NonSelfie10734.jpg', 'NonSelfie10726.jpg', 'NonSelfie10738.jpg', 'NonSelfie10724.jpg', 'NonSelfie10730.jpg', 'NonSelfie10748.jpg', 'NonSelfie10739.jpg', 'NonSelfie10753.jpg', 'NonSelfie10751.jpg', 'NonSelfie10750.jpg', 'NonSelfie10741.jpg', 'NonSelfie10744.jpg', 'NonSelfie10746.jpg', 'NonSelfie10743.jpg', 'NonSelfie1074.jpg', 'NonSelfie10740.jpg', 'NonSelfie10745.jpg', 'NonSelfie10749.jpg', 'NonSelfie10747.jpg', 'NonSelfie10752.jpg', 'NonSelfie1075.jpg', 'NonSelfie10742.jpg', 'NonSelfie10766.jpg', 'NonSelfie10762.jpg', 'NonSelfie10754.jpg', 'NonSelfie10759.jpg', 'NonSelfie10761.jpg', 'NonSelfie1076.jpg', 'NonSelfie10757.jpg', 'NonSelfie10767.jpg', 'NonSelfie10764.jpg', 'NonSelfie10756.jpg', 'NonSelfie10760.jpg', 'NonSelfie10768.jpg', 'NonSelfie10769.jpg', 'NonSelfie10763.jpg', 'NonSelfie10755.jpg', 'NonSelfie10765.jpg', 'NonSelfie10758.jpg', 'NonSelfie10780.jpg', 'NonSelfie10770.jpg', 'NonSelfie10783.jpg', 'NonSelfie10778.jpg', 'NonSelfie10775.jpg', 'NonSelfie10782.jpg', 'NonSelfie10784.jpg', 'NonSelfie10773.jpg', 'NonSelfie10772.jpg', 'NonSelfie10785.jpg', 'NonSelfie10771.jpg', 'NonSelfie10774.jpg', 'NonSelfie10781.jpg', 'NonSelfie1078.jpg', 'NonSelfie10779.jpg', 'NonSelfie10777.jpg', 'NonSelfie10776.jpg', 'NonSelfie1077.jpg', 'NonSelfie10796.jpg', 'NonSelfie108.jpg', 'NonSelfie10797.jpg', 'NonSelfie10795.jpg', 'NonSelfie10788.jpg', 'NonSelfie10791.jpg', 'NonSelfie10793.jpg', 'NonSelfie10790.jpg', 'NonSelfie10799.jpg', 'NonSelfie10789.jpg', 'NonSelfie10794.jpg', 'NonSelfie10786.jpg', 'NonSelfie10787.jpg', 'NonSelfie10792.jpg', 'NonSelfie1079.jpg', 'NonSelfie10798.jpg', 'NonSelfie10814.jpg', 'NonSelfie10808.jpg', 'NonSelfie10806.jpg', 'NonSelfie10801.jpg', 'NonSelfie1080.jpg', 'NonSelfie10803.jpg', 'NonSelfie10809.jpg', 'NonSelfie10811.jpg', 'NonSelfie10810.jpg', 'NonSelfie10804.jpg', 'NonSelfie10813.jpg', 'NonSelfie10812.jpg', 'NonSelfie10807.jpg', 'NonSelfie10802.jpg', 'NonSelfie10805.jpg', 'NonSelfie1081.jpg', 'NonSelfie10800.jpg', 'NonSelfie10821.jpg', 'NonSelfie10819.jpg', 'NonSelfie10816.jpg', 'NonSelfie10815.jpg', 'NonSelfie10824.jpg', 'NonSelfie10818.jpg', 'NonSelfie10826.jpg', 'NonSelfie10820.jpg', 'NonSelfie10823.jpg', 'NonSelfie1082.jpg', 'NonSelfie10822.jpg', 'NonSelfie10817.jpg', 'NonSelfie10825.jpg', 'NonSelfie10839.jpg', 'NonSelfie10829.jpg', 'NonSelfie10838.jpg', 'NonSelfie10827.jpg', 'NonSelfie10832.jpg', 'NonSelfie10830.jpg', 'NonSelfie10828.jpg', 'NonSelfie1084.jpg', 'NonSelfie10833.jpg', 'NonSelfie10834.jpg', 'NonSelfie10836.jpg', 'NonSelfie10835.jpg', 'NonSelfie1083.jpg', 'NonSelfie10831.jpg', 'NonSelfie10837.jpg', 'NonSelfie10840.jpg', 'NonSelfie10855.jpg', 'NonSelfie10849.jpg', 'NonSelfie10844.jpg', 'NonSelfie10847.jpg', 'NonSelfie10848.jpg', 'NonSelfie10858.jpg', 'NonSelfie10853.jpg', 'NonSelfie10856.jpg', 'NonSelfie10845.jpg', 'NonSelfie10846.jpg', 'NonSelfie10842.jpg', 'NonSelfie10854.jpg', 'NonSelfie10841.jpg', 'NonSelfie1085.jpg', 'NonSelfie10850.jpg', 'NonSelfie10857.jpg', 'NonSelfie10843.jpg', 'NonSelfie10852.jpg', 'NonSelfie10851.jpg', 'NonSelfie10859.jpg', 'NonSelfie10866.jpg', 'NonSelfie1087.jpg', 'NonSelfie10863.jpg', 'NonSelfie10865.jpg', 'NonSelfie10864.jpg', 'NonSelfie10860.jpg', 'NonSelfie10861.jpg', 'NonSelfie1086.jpg', 'NonSelfie10869.jpg', 'NonSelfie10870.jpg', 'NonSelfie10862.jpg', 'NonSelfie10867.jpg', 'NonSelfie10868.jpg', 'NonSelfie10882.jpg', 'NonSelfie10873.jpg', 'NonSelfie10872.jpg', 'NonSelfie10885.jpg', 'NonSelfie10881.jpg', 'NonSelfie10877.jpg', 'NonSelfie10878.jpg', 'NonSelfie10876.jpg', 'NonSelfie10880.jpg', 'NonSelfie10884.jpg', 'NonSelfie10875.jpg', 'NonSelfie10879.jpg', 'NonSelfie10883.jpg', 'NonSelfie1088.jpg', 'NonSelfie10874.jpg', 'NonSelfie10871.jpg', 'NonSelfie10897.jpg', 'NonSelfie10888.jpg', 'NonSelfie10900.jpg', 'NonSelfie1090.jpg', 'NonSelfie10895.jpg', 'NonSelfie109.jpg', 'NonSelfie10890.jpg', 'NonSelfie10889.jpg', 'NonSelfie10893.jpg', 'NonSelfie10899.jpg', 'NonSelfie10898.jpg', 'NonSelfie10887.jpg', 'NonSelfie10894.jpg', 'NonSelfie10896.jpg', 'NonSelfie10892.jpg', 'NonSelfie10886.jpg', 'NonSelfie1089.jpg', 'NonSelfie10891.jpg', 'NonSelfie10910.jpg', 'NonSelfie10913.jpg', 'NonSelfie10911.jpg', 'NonSelfie10912.jpg', 'NonSelfie10902.jpg', 'NonSelfie10909.jpg', 'NonSelfie10915.jpg', 'NonSelfie10903.jpg', 'NonSelfie10906.jpg', 'NonSelfie10907.jpg', 'NonSelfie10901.jpg', 'NonSelfie10904.jpg', 'NonSelfie10914.jpg', 'NonSelfie10916.jpg', 'NonSelfie1091.jpg', 'NonSelfie10908.jpg', 'NonSelfie10905.jpg', 'NonSelfie10928.jpg', 'NonSelfie10921.jpg', 'NonSelfie10923.jpg', 'NonSelfie10917.jpg', 'NonSelfie10924.jpg', 'NonSelfie10922.jpg', 'NonSelfie10920.jpg', 'NonSelfie10927.jpg', 'NonSelfie10929.jpg', 'NonSelfie10918.jpg', 'NonSelfie10930.jpg', 'NonSelfie10931.jpg', 'NonSelfie1093.jpg', 'NonSelfie10919.jpg', 'NonSelfie1092.jpg', 'NonSelfie10926.jpg', 'NonSelfie10925.jpg', 'NonSelfie10939.jpg', 'NonSelfie10943.jpg', 'NonSelfie10941.jpg', 'NonSelfie10938.jpg', 'NonSelfie10937.jpg', 'NonSelfie10934.jpg', 'NonSelfie10935.jpg', 'NonSelfie10940.jpg', 'NonSelfie10945.jpg', 'NonSelfie1094.jpg', 'NonSelfie10936.jpg', 'NonSelfie10932.jpg', 'NonSelfie10933.jpg', 'NonSelfie10942.jpg', 'NonSelfie10944.jpg', 'NonSelfie10956.jpg', 'NonSelfie10952.jpg', 'NonSelfie10958.jpg', 'NonSelfie10957.jpg', 'NonSelfie10955.jpg', 'NonSelfie10959.jpg', 'NonSelfie10953.jpg', 'NonSelfie10950.jpg', 'NonSelfie10948.jpg', 'NonSelfie10949.jpg', 'NonSelfie1096.jpg', 'NonSelfie10954.jpg', 'NonSelfie1095.jpg', 'NonSelfie10946.jpg', 'NonSelfie10951.jpg', 'NonSelfie10947.jpg', 'NonSelfie10963.jpg', 'NonSelfie10968.jpg', 'NonSelfie10962.jpg', 'NonSelfie1097.jpg', 'NonSelfie10960.jpg', 'NonSelfie10970.jpg', 'NonSelfie10966.jpg', 'NonSelfie10967.jpg', 'NonSelfie10969.jpg', 'NonSelfie10965.jpg', 'NonSelfie10964.jpg', 'NonSelfie10961.jpg', 'NonSelfie10983.jpg', 'NonSelfie10978.jpg', 'NonSelfie10975.jpg', 'NonSelfie10973.jpg', 'NonSelfie10980.jpg', 'NonSelfie10971.jpg', 'NonSelfie10982.jpg', 'NonSelfie10984.jpg', 'NonSelfie10986.jpg', 'NonSelfie10987.jpg', 'NonSelfie10979.jpg', 'NonSelfie10988.jpg', 'NonSelfie10985.jpg', 'NonSelfie10976.jpg', 'NonSelfie10972.jpg', 'NonSelfie10981.jpg', 'NonSelfie10974.jpg', 'NonSelfie1098.jpg', 'NonSelfie10977.jpg', 'NonSelfie11001.jpg', 'NonSelfie11000.jpg', 'NonSelfie10992.jpg', 'NonSelfie1100.jpg', 'NonSelfie10989.jpg', 'NonSelfie10993.jpg', 'NonSelfie11002.jpg', 'NonSelfie10990.jpg', 'NonSelfie10994.jpg', 'NonSelfie10996.jpg', 'NonSelfie10997.jpg', 'NonSelfie10995.jpg', 'NonSelfie10991.jpg', 'NonSelfie10999.jpg', 'NonSelfie10998.jpg', 'NonSelfie11.jpg', 'NonSelfie110.jpg', 'NonSelfie1099.jpg', 'NonSelfie11016.jpg', 'NonSelfie11019.jpg', 'NonSelfie11011.jpg', 'NonSelfie11015.jpg', 'NonSelfie11012.jpg', 'NonSelfie11017.jpg', 'NonSelfie11004.jpg', 'NonSelfie11009.jpg', 'NonSelfie1101.jpg', 'NonSelfie11013.jpg', 'NonSelfie11008.jpg', 'NonSelfie11007.jpg', 'NonSelfie11006.jpg', 'NonSelfie11010.jpg', 'NonSelfie11005.jpg', 'NonSelfie11018.jpg', 'NonSelfie11014.jpg', 'NonSelfie11003.jpg', 'NonSelfie11032.jpg', 'NonSelfie11025.jpg', 'NonSelfie11033.jpg', 'NonSelfie11028.jpg', 'NonSelfie11021.jpg', 'NonSelfie1103.jpg', 'NonSelfie11024.jpg', 'NonSelfie11030.jpg', 'NonSelfie11031.jpg', 'NonSelfie11034.jpg', 'NonSelfie11026.jpg', 'NonSelfie11029.jpg', 'NonSelfie11022.jpg', 'NonSelfie11020.jpg', 'NonSelfie1102.jpg', 'NonSelfie11023.jpg', 'NonSelfie11027.jpg', 'NonSelfie11042.jpg', 'NonSelfie11036.jpg', 'NonSelfie11040.jpg', 'NonSelfie11047.jpg', 'NonSelfie11037.jpg', 'NonSelfie11049.jpg', 'NonSelfie11038.jpg', 'NonSelfie11041.jpg', 'NonSelfie11046.jpg', 'NonSelfie11045.jpg', 'NonSelfie11035.jpg', 'NonSelfie11043.jpg', 'NonSelfie11048.jpg', 'NonSelfie11039.jpg', 'NonSelfie11044.jpg', 'NonSelfie1104.jpg', 'NonSelfie1105.jpg', 'NonSelfie11050.jpg', 'NonSelfie11056.jpg', 'NonSelfie11059.jpg', 'NonSelfie11065.jpg', 'NonSelfie11063.jpg', 'NonSelfie11054.jpg', 'NonSelfie11053.jpg', 'NonSelfie11062.jpg', 'NonSelfie11058.jpg', 'NonSelfie11061.jpg', 'NonSelfie11051.jpg', 'NonSelfie1106.jpg', 'NonSelfie11057.jpg', 'NonSelfie11064.jpg', 'NonSelfie11052.jpg', 'NonSelfie11060.jpg', 'NonSelfie11055.jpg', 'NonSelfie11076.jpg', 'NonSelfie11073.jpg', 'NonSelfie11074.jpg', 'NonSelfie11068.jpg', 'NonSelfie11071.jpg', 'NonSelfie11072.jpg', 'NonSelfie1107.jpg', 'NonSelfie11070.jpg', 'NonSelfie11077.jpg', 'NonSelfie11067.jpg', 'NonSelfie11069.jpg', 'NonSelfie11075.jpg', 'NonSelfie11066.jpg', 'NonSelfie11080.jpg', 'NonSelfie11081.jpg', 'NonSelfie11082.jpg', 'NonSelfie11079.jpg', 'NonSelfie11078.jpg', 'NonSelfie1108.jpg', 'NonSelfie11093.jpg', 'NonSelfie11088.jpg', 'NonSelfie1109.jpg', 'NonSelfie11092.jpg', 'NonSelfie11086.jpg', 'NonSelfie11083.jpg', 'NonSelfie11089.jpg', 'NonSelfie11090.jpg', 'NonSelfie11091.jpg', 'NonSelfie11087.jpg', 'NonSelfie11085.jpg', 'NonSelfie11084.jpg', 'NonSelfie111.jpg', 'NonSelfie11099.jpg', 'NonSelfie11103.jpg', 'NonSelfie1110.jpg', 'NonSelfie11101.jpg', 'NonSelfie11098.jpg', 'NonSelfie11096.jpg', 'NonSelfie11097.jpg', 'NonSelfie11095.jpg', 'NonSelfie11094.jpg', 'NonSelfie11102.jpg', 'NonSelfie11100.jpg', 'NonSelfie11110.jpg', 'NonSelfie11105.jpg', 'NonSelfie11104.jpg', 'NonSelfie11109.jpg', 'NonSelfie11106.jpg', 'NonSelfie11111.jpg', 'NonSelfie11108.jpg', 'NonSelfie1111.jpg', 'NonSelfie11107.jpg', 'NonSelfie11112.jpg', 'NonSelfie11113.jpg', 'NonSelfie11115.jpg', 'NonSelfie11114.jpg', 'NonSelfie11116.jpg', 'NonSelfie10004.jpg', 'NonSelfie10005.jpg', 'NonSelfie100.jpg', 'NonSelfie1000.jpg', 'NonSelfie10002.jpg', 'NonSelfie10.jpg', 'NonSelfie10001.jpg', 'NonSelfie10003.jpg', 'NonSelfie10000.jpg', 'NonSelfie1.jpg', 'NonSelfie10006.jpg', 'NonSelfie10015.jpg', 'NonSelfie10010.jpg', 'NonSelfie10016.jpg', 'NonSelfie10018.jpg', 'NonSelfie10008.jpg', 'NonSelfie10013.jpg', 'NonSelfie10014.jpg', 'NonSelfie10007.jpg', 'NonSelfie1001.jpg', 'NonSelfie10017.jpg', 'NonSelfie10011.jpg', 'NonSelfie10012.jpg', 'NonSelfie10009.jpg', 'NonSelfie10023.jpg', 'NonSelfie10031.jpg', 'NonSelfie10020.jpg', 'NonSelfie1003.jpg', 'NonSelfie10029.jpg', 'NonSelfie10019.jpg', 'NonSelfie10022.jpg', 'NonSelfie10025.jpg', 'NonSelfie10028.jpg', 'NonSelfie1002.jpg', 'NonSelfie10026.jpg', 'NonSelfie10030.jpg', 'NonSelfie10024.jpg', 'NonSelfie10027.jpg', 'NonSelfie10033.jpg', 'NonSelfie10032.jpg', 'NonSelfie10021.jpg', 'NonSelfie10037.jpg', 'NonSelfie10046.jpg', 'NonSelfie10048.jpg', 'NonSelfie10039.jpg', 'NonSelfie10034.jpg', 'NonSelfie10036.jpg', 'NonSelfie10041.jpg', 'NonSelfie10049.jpg', 'NonSelfie10044.jpg', 'NonSelfie1004.jpg', 'NonSelfie10042.jpg', 'NonSelfie10047.jpg', 'NonSelfie10035.jpg', 'NonSelfie10045.jpg', 'NonSelfie10043.jpg', 'NonSelfie10040.jpg', 'NonSelfie10038.jpg', 'NonSelfie10060.jpg', 'NonSelfie10059.jpg', 'NonSelfie10062.jpg', 'NonSelfie10063.jpg', 'NonSelfie1006.jpg', 'NonSelfie10065.jpg', 'NonSelfie10056.jpg', 'NonSelfie10051.jpg', 'NonSelfie10061.jpg', 'NonSelfie1005.jpg', 'NonSelfie10058.jpg', 'NonSelfie10052.jpg', 'NonSelfie10057.jpg', 'NonSelfie10053.jpg', 'NonSelfie10064.jpg', 'NonSelfie10055.jpg', 'NonSelfie10050.jpg', 'NonSelfie10054.jpg', 'NonSelfie10069.jpg', 'NonSelfie10073.jpg', 'NonSelfie1008.jpg', 'NonSelfie10080.jpg', 'NonSelfie10081.jpg', 'NonSelfie10075.jpg', 'NonSelfie10078.jpg', 'NonSelfie10068.jpg', 'NonSelfie10066.jpg', 'NonSelfie1007.jpg', 'NonSelfie10074.jpg', 'NonSelfie10077.jpg', 'NonSelfie10072.jpg', 'NonSelfie10076.jpg', 'NonSelfie10079.jpg', 'NonSelfie10071.jpg', 'NonSelfie10070.jpg', 'NonSelfie10067.jpg', 'NonSelfie10091.jpg', 'NonSelfie10083.jpg', 'NonSelfie10096.jpg', 'NonSelfie10093.jpg', 'NonSelfie10086.jpg', 'NonSelfie10094.jpg', 'NonSelfie10098.jpg', 'NonSelfie10092.jpg', 'NonSelfie10090.jpg', 'NonSelfie10099.jpg', 'NonSelfie10089.jpg', 'NonSelfie10095.jpg', 'NonSelfie10087.jpg', 'NonSelfie10097.jpg', 'NonSelfie10084.jpg', 'NonSelfie10085.jpg', 'NonSelfie10082.jpg', 'NonSelfie1009.jpg', 'NonSelfie10088.jpg', 'NonSelfie10114.jpg', 'NonSelfie10104.jpg', 'NonSelfie10110.jpg', 'NonSelfie10105.jpg', 'NonSelfie10101.jpg', 'NonSelfie10106.jpg', 'NonSelfie10113.jpg', 'NonSelfie10107.jpg', 'NonSelfie10109.jpg', 'NonSelfie10100.jpg', 'NonSelfie10103.jpg', 'NonSelfie1010.jpg', 'NonSelfie1011.jpg', 'NonSelfie10111.jpg', 'NonSelfie10112.jpg', 'NonSelfie10108.jpg', 'NonSelfie101.jpg', 'NonSelfie10102.jpg', 'NonSelfie10121.jpg', 'NonSelfie10116.jpg', 'NonSelfie10127.jpg', 'NonSelfie1012.jpg', 'NonSelfie10129.jpg', 'NonSelfie10123.jpg', 'NonSelfie10120.jpg', 'NonSelfie10124.jpg', 'NonSelfie10126.jpg', 'NonSelfie10118.jpg', 'NonSelfie10122.jpg', 'NonSelfie10119.jpg', 'NonSelfie10125.jpg', 'NonSelfie10115.jpg', 'NonSelfie10117.jpg', 'NonSelfie1013.jpg', 'NonSelfie10128.jpg', 'NonSelfie10135.jpg', 'NonSelfie10138.jpg', 'NonSelfie10142.jpg', 'NonSelfie10143.jpg', 'NonSelfie10136.jpg', 'NonSelfie10146.jpg', 'NonSelfie10144.jpg', 'NonSelfie10139.jpg', 'NonSelfie10141.jpg', 'NonSelfie10140.jpg', 'NonSelfie10131.jpg', 'NonSelfie10134.jpg', 'NonSelfie10133.jpg', 'NonSelfie1014.jpg', 'NonSelfie10132.jpg', 'NonSelfie10137.jpg', 'NonSelfie10145.jpg', 'NonSelfie10130.jpg', 'NonSelfie1016.jpg', 'NonSelfie10148.jpg', 'NonSelfie10160.jpg', 'NonSelfie10157.jpg', 'NonSelfie10150.jpg', 'NonSelfie10156.jpg', 'NonSelfie10153.jpg', 'NonSelfie10149.jpg', 'NonSelfie10147.jpg', 'NonSelfie10154.jpg', 'NonSelfie1015.jpg', 'NonSelfie10151.jpg', 'NonSelfie10152.jpg', 'NonSelfie10161.jpg', 'NonSelfie10155.jpg', 'NonSelfie10158.jpg', 'NonSelfie10159.jpg', 'NonSelfie10169.jpg', 'NonSelfie10177.jpg', 'NonSelfie10167.jpg', 'NonSelfie10175.jpg', 'NonSelfie1017.jpg', 'NonSelfie10172.jpg', 'NonSelfie10174.jpg', 'NonSelfie10164.jpg', 'NonSelfie10168.jpg', 'NonSelfie10165.jpg', 'NonSelfie10166.jpg', 'NonSelfie10171.jpg', 'NonSelfie10163.jpg', 'NonSelfie10176.jpg', 'NonSelfie10170.jpg', 'NonSelfie10162.jpg', 'NonSelfie10173.jpg', 'NonSelfie10190.jpg', 'NonSelfie10178.jpg', 'NonSelfie10182.jpg', 'NonSelfie10191.jpg', 'NonSelfie10185.jpg', 'NonSelfie10186.jpg', 'NonSelfie10181.jpg', 'NonSelfie1019.jpg', 'NonSelfie10188.jpg', 'NonSelfie10180.jpg', 'NonSelfie10179.jpg', 'NonSelfie10192.jpg', 'NonSelfie1018.jpg', 'NonSelfie10189.jpg', 'NonSelfie10184.jpg', 'NonSelfie10183.jpg', 'NonSelfie10187.jpg', 'NonSelfie10203.jpg', 'NonSelfie10195.jpg', 'NonSelfie1020.jpg', 'NonSelfie102.jpg', 'NonSelfie10199.jpg', 'NonSelfie10194.jpg', 'NonSelfie10202.jpg', 'NonSelfie10207.jpg', 'NonSelfie10193.jpg', 'NonSelfie10200.jpg', 'NonSelfie10201.jpg', 'NonSelfie10196.jpg', 'NonSelfie10206.jpg', 'NonSelfie10197.jpg', 'NonSelfie10204.jpg', 'NonSelfie10205.jpg', 'NonSelfie10208.jpg', 'NonSelfie10198.jpg', 'NonSelfie10218.jpg', 'NonSelfie10222.jpg', 'NonSelfie10217.jpg', 'NonSelfie10213.jpg', 'NonSelfie10211.jpg', 'NonSelfie1021.jpg', 'NonSelfie10212.jpg', 'NonSelfie10216.jpg', 'NonSelfie10219.jpg']\n",
            "Contents of trainB directory: ['Selfie10158.jpg', 'Selfie10151.jpg', 'Selfie10145.jpg', 'Selfie10177.jpg', 'Selfie10175.jpg', 'Selfie10179.jpg', 'Selfie10171.jpg', 'Selfie10174.jpg', 'Selfie10169.jpg', 'Selfie10170.jpg', 'Selfie10173.jpg', 'Selfie10162.jpg', 'Selfie10164.jpg', 'Selfie1017.jpg', 'Selfie10168.jpg', 'Selfie10167.jpg', 'Selfie10178.jpg', 'Selfie10176.jpg', 'Selfie10172.jpg', 'Selfie10165.jpg', 'Selfie10163.jpg', 'Selfie10166.jpg', 'Selfie10193.jpg', 'Selfie10191.jpg', 'Selfie10196.jpg', 'Selfie10195.jpg', 'Selfie10190.jpg', 'Selfie10181.jpg', 'Selfie10188.jpg', 'Selfie10184.jpg', 'Selfie10194.jpg', 'Selfie10182.jpg', 'Selfie10183.jpg', 'Selfie10180.jpg', 'Selfie10189.jpg', 'Selfie1019.jpg', 'Selfie10187.jpg', 'Selfie10185.jpg', 'Selfie10186.jpg', 'Selfie10192.jpg', 'Selfie1018.jpg', 'Selfie10197.jpg', 'Selfie10212.jpg', 'Selfie10213.jpg', 'Selfie10199.jpg', 'Selfie10200.jpg', 'Selfie1020.jpg', 'Selfie10204.jpg', 'Selfie10205.jpg', 'Selfie10209.jpg', 'Selfie10203.jpg', 'Selfie1021.jpg', 'Selfie10208.jpg', 'Selfie10201.jpg', 'Selfie10211.jpg', 'Selfie10206.jpg', 'Selfie10210.jpg', 'Selfie10207.jpg', 'Selfie10198.jpg', 'Selfie102.jpg', 'Selfie10202.jpg', 'Selfie1023.jpg', 'Selfie10216.jpg', 'Selfie10218.jpg', 'Selfie10223.jpg', 'Selfie1022.jpg', 'Selfie10225.jpg', 'Selfie10214.jpg', 'Selfie10215.jpg', 'Selfie10219.jpg', 'Selfie10217.jpg', 'Selfie10227.jpg', 'Selfie10221.jpg', 'Selfie10220.jpg', 'Selfie10228.jpg', 'Selfie10222.jpg', 'Selfie10224.jpg', 'Selfie10229.jpg', 'Selfie10226.jpg', 'Selfie10236.jpg', 'Selfie10246.jpg', 'Selfie10238.jpg', 'Selfie10235.jpg', 'Selfie10240.jpg', 'Selfie10239.jpg', 'Selfie10230.jpg', 'Selfie10245.jpg', 'Selfie10231.jpg', 'Selfie10233.jpg', 'Selfie10242.jpg', 'Selfie10241.jpg', 'Selfie10237.jpg', 'Selfie10243.jpg', 'Selfie10244.jpg', 'Selfie10247.jpg', 'Selfie10234.jpg', 'Selfie1024.jpg', 'Selfie10232.jpg', 'Selfie10254.jpg', 'Selfie10253.jpg', 'Selfie10257.jpg', 'Selfie10250.jpg', 'Selfie1025.jpg', 'Selfie10255.jpg', 'Selfie10256.jpg', 'Selfie10262.jpg', 'Selfie10260.jpg', 'Selfie10263.jpg', 'Selfie10259.jpg', 'Selfie10249.jpg', 'Selfie10251.jpg', 'Selfie10252.jpg', 'Selfie10261.jpg', 'Selfie10258.jpg', 'Selfie10264.jpg', 'Selfie10248.jpg', 'Selfie1026.jpg', 'Selfie10271.jpg', 'Selfie10275.jpg', 'Selfie1028.jpg', 'Selfie10265.jpg', 'Selfie10281.jpg', 'Selfie10267.jpg', 'Selfie10270.jpg', 'Selfie10266.jpg', 'Selfie10269.jpg', 'Selfie1027.jpg', 'Selfie10277.jpg', 'Selfie10279.jpg', 'Selfie10278.jpg', 'Selfie10273.jpg', 'Selfie10276.jpg', 'Selfie10274.jpg', 'Selfie10268.jpg', 'Selfie10280.jpg', 'Selfie10272.jpg', 'Selfie10287.jpg', 'Selfie10293.jpg', 'Selfie10294.jpg', 'Selfie103.jpg', 'Selfie1029.jpg', 'Selfie10298.jpg', 'Selfie10291.jpg', 'Selfie10292.jpg', 'Selfie10299.jpg', 'Selfie10284.jpg', 'Selfie10290.jpg', 'Selfie10283.jpg', 'Selfie10295.jpg', 'Selfie10282.jpg', 'Selfie10286.jpg', 'Selfie10288.jpg', 'Selfie10285.jpg', 'Selfie10297.jpg', 'Selfie10296.jpg', 'Selfie10289.jpg', 'Selfie10306.jpg', 'Selfie10309.jpg', 'Selfie10311.jpg', 'Selfie10302.jpg', 'Selfie10315.jpg', 'Selfie10305.jpg', 'Selfie10316.jpg', 'Selfie10313.jpg', 'Selfie10310.jpg', 'Selfie10312.jpg', 'Selfie10304.jpg', 'Selfie10314.jpg', 'Selfie10303.jpg', 'Selfie10307.jpg', 'Selfie10300.jpg', 'Selfie10308.jpg', 'Selfie10301.jpg', 'Selfie1030.jpg', 'Selfie1031.jpg', 'Selfie10318.jpg', 'Selfie10323.jpg', 'Selfie10326.jpg', 'Selfie10330.jpg', 'Selfie1033.jpg', 'Selfie10329.jpg', 'Selfie10327.jpg', 'Selfie10324.jpg', 'Selfie10333.jpg', 'Selfie10322.jpg', 'Selfie10319.jpg', 'Selfie10325.jpg', 'Selfie10317.jpg', 'Selfie1032.jpg', 'Selfie10321.jpg', 'Selfie10331.jpg', 'Selfie10328.jpg', 'Selfie10332.jpg', 'Selfie10320.jpg', 'Selfie10337.jpg', 'Selfie10341.jpg', 'Selfie10335.jpg', 'Selfie10340.jpg', 'Selfie1035.jpg', 'Selfie10347.jpg', 'Selfie10339.jpg', 'Selfie10345.jpg', 'Selfie10334.jpg', 'Selfie10348.jpg', 'Selfie10342.jpg', 'Selfie10344.jpg', 'Selfie10349.jpg', 'Selfie10338.jpg', 'Selfie10350.jpg', 'Selfie10346.jpg', 'Selfie10336.jpg', 'Selfie1034.jpg', 'Selfie10343.jpg', 'Selfie10359.jpg', 'Selfie10365.jpg', 'Selfie10352.jpg', 'Selfie10367.jpg', 'Selfie10364.jpg', 'Selfie10354.jpg', 'Selfie10351.jpg', 'Selfie10353.jpg', 'Selfie10355.jpg', 'Selfie10362.jpg', 'Selfie10368.jpg', 'Selfie1036.jpg', 'Selfie10366.jpg', 'Selfie10361.jpg', 'Selfie10363.jpg', 'Selfie10360.jpg', 'Selfie10356.jpg', 'Selfie10358.jpg', 'Selfie10357.jpg', 'Selfie10380.jpg', 'Selfie10371.jpg', 'Selfie10373.jpg', 'Selfie10377.jpg', 'Selfie10381.jpg', 'Selfie10383.jpg', 'Selfie10374.jpg', 'Selfie10378.jpg', 'Selfie10369.jpg', 'Selfie10372.jpg', 'Selfie10385.jpg', 'Selfie10382.jpg', 'Selfie1037.jpg', 'Selfie1038.jpg', 'Selfie10376.jpg', 'Selfie10370.jpg', 'Selfie10384.jpg', 'Selfie10379.jpg', 'Selfie10375.jpg', 'Selfie10391.jpg', 'Selfie10400.jpg', 'Selfie10393.jpg', 'Selfie10387.jpg', 'Selfie10389.jpg', 'Selfie1040.jpg', 'Selfie10398.jpg', 'Selfie10396.jpg', 'Selfie104.jpg', 'Selfie10390.jpg', 'Selfie10397.jpg', 'Selfie1039.jpg', 'Selfie10399.jpg', 'Selfie10392.jpg', 'Selfie10394.jpg', 'Selfie10388.jpg', 'Selfie10401.jpg', 'Selfie10395.jpg', 'Selfie10386.jpg', 'Selfie10417.jpg', 'Selfie10408.jpg', 'Selfie10415.jpg', 'Selfie10416.jpg', 'Selfie10406.jpg', 'Selfie10405.jpg', 'Selfie10418.jpg', 'Selfie10412.jpg', 'Selfie10413.jpg', 'Selfie10404.jpg', 'Selfie1041.jpg', 'Selfie10409.jpg', 'Selfie10411.jpg', 'Selfie10410.jpg', 'Selfie10402.jpg', 'Selfie10403.jpg', 'Selfie10407.jpg', 'Selfie10414.jpg', 'Selfie10419.jpg', 'Selfie1043.jpg', 'Selfie10436.jpg', 'Selfie10424.jpg', 'Selfie10422.jpg', 'Selfie10420.jpg', 'Selfie10426.jpg', 'Selfie10421.jpg', 'Selfie10430.jpg', 'Selfie10435.jpg', 'Selfie1042.jpg', 'Selfie10428.jpg', 'Selfie10423.jpg', 'Selfie10432.jpg', 'Selfie10427.jpg', 'Selfie10429.jpg', 'Selfie10433.jpg', 'Selfie10431.jpg', 'Selfie10434.jpg', 'Selfie10425.jpg', 'Selfie10441.jpg', 'Selfie10453.jpg', 'Selfie10442.jpg', 'Selfie10439.jpg', 'Selfie10446.jpg', 'Selfie10443.jpg', 'Selfie1045.jpg', 'Selfie10445.jpg', 'Selfie10444.jpg', 'Selfie10449.jpg', 'Selfie10448.jpg', 'Selfie10440.jpg', 'Selfie10447.jpg', 'Selfie10452.jpg', 'Selfie10437.jpg', 'Selfie10451.jpg', 'Selfie10438.jpg', 'Selfie1044.jpg', 'Selfie10450.jpg', 'Selfie10454.jpg', 'Selfie10457.jpg', 'Selfie10461.jpg', 'Selfie10464.jpg', 'Selfie10460.jpg', 'Selfie10456.jpg', 'Selfie10463.jpg', 'Selfie10459.jpg', 'Selfie10458.jpg', 'Selfie1046.jpg', 'Selfie1047.jpg', 'Selfie10467.jpg', 'Selfie10469.jpg', 'Selfie10465.jpg', 'Selfie10468.jpg', 'Selfie10462.jpg', 'Selfie10466.jpg', 'Selfie10455.jpg', 'Selfie10479.jpg', 'Selfie10482.jpg', 'Selfie10484.jpg', 'Selfie10471.jpg', 'Selfie10481.jpg', 'Selfie10477.jpg', 'Selfie10483.jpg', 'Selfie10475.jpg', 'Selfie10487.jpg', 'Selfie10478.jpg', 'Selfie10476.jpg', 'Selfie10486.jpg', 'Selfie10470.jpg', 'Selfie10473.jpg', 'Selfie10485.jpg', 'Selfie10472.jpg', 'Selfie1048.jpg', 'Selfie10480.jpg', 'Selfie10474.jpg', 'Selfie10493.jpg', 'Selfie10502.jpg', 'Selfie10504.jpg', 'Selfie10488.jpg', 'Selfie10503.jpg', 'Selfie10489.jpg', 'Selfie105.jpg', 'Selfie10496.jpg', 'Selfie1049.jpg', 'Selfie10501.jpg', 'Selfie10500.jpg', 'Selfie1050.jpg', 'Selfie10498.jpg', 'Selfie10492.jpg', 'Selfie10499.jpg', 'Selfie10494.jpg', 'Selfie10491.jpg', 'Selfie10495.jpg', 'Selfie10490.jpg', 'Selfie10497.jpg', 'Selfie10505.jpg', 'Selfie10512.jpg', 'Selfie10511.jpg', 'Selfie10520.jpg', 'Selfie10519.jpg', 'Selfie10518.jpg', 'Selfie10513.jpg', 'Selfie10508.jpg', 'Selfie10506.jpg', 'Selfie10509.jpg', 'Selfie10521.jpg', 'Selfie1052.jpg', 'Selfie10510.jpg', 'Selfie1051.jpg', 'Selfie10517.jpg', 'Selfie10514.jpg', 'Selfie10515.jpg', 'Selfie10507.jpg', 'Selfie10516.jpg', 'Selfie10527.jpg', 'Selfie10526.jpg', 'Selfie10536.jpg', 'Selfie10523.jpg', 'Selfie10532.jpg', 'Selfie10530.jpg', 'Selfie10531.jpg', 'Selfie10540.jpg', 'Selfie10534.jpg', 'Selfie10537.jpg', 'Selfie10528.jpg', 'Selfie1053.jpg', 'Selfie10535.jpg', 'Selfie10522.jpg', 'Selfie10533.jpg', 'Selfie10529.jpg', 'Selfie10525.jpg', 'Selfie1054.jpg', 'Selfie10539.jpg', 'Selfie10538.jpg', 'Selfie10524.jpg', 'Selfie10555.jpg', 'Selfie10543.jpg', 'Selfie10556.jpg', 'Selfie10551.jpg', 'Selfie10549.jpg', 'Selfie10548.jpg', 'Selfie10541.jpg', 'Selfie10552.jpg', 'Selfie10553.jpg', 'Selfie10542.jpg', 'Selfie10547.jpg', 'Selfie10544.jpg', 'Selfie1055.jpg', 'Selfie10557.jpg', 'Selfie10545.jpg', 'Selfie10550.jpg', 'Selfie10554.jpg', 'Selfie10546.jpg', 'Selfie10574.jpg', 'Selfie10568.jpg', 'Selfie10559.jpg', 'Selfie1057.jpg', 'Selfie10567.jpg', 'Selfie10565.jpg', 'Selfie10566.jpg', 'Selfie10558.jpg', 'Selfie10572.jpg', 'Selfie10560.jpg', 'Selfie10569.jpg', 'Selfie10570.jpg', 'Selfie10562.jpg', 'Selfie10563.jpg', 'Selfie10561.jpg', 'Selfie10573.jpg', 'Selfie1056.jpg', 'Selfie10564.jpg', 'Selfie10571.jpg', 'Selfie10588.jpg', 'Selfie10584.jpg', 'Selfie10576.jpg', 'Selfie10589.jpg', 'Selfie10581.jpg', 'Selfie10583.jpg', 'Selfie1059.jpg', 'Selfie10590.jpg', 'Selfie10586.jpg', 'Selfie10578.jpg', 'Selfie10582.jpg', 'Selfie10580.jpg', 'Selfie10579.jpg', 'Selfie1058.jpg', 'Selfie10577.jpg', 'Selfie10587.jpg', 'Selfie10591.jpg', 'Selfie10575.jpg', 'Selfie10585.jpg', 'Selfie10603.jpg', 'Selfie10599.jpg', 'Selfie10596.jpg', 'Selfie10602.jpg', 'Selfie10604.jpg', 'Selfie10608.jpg', 'Selfie106.jpg', 'Selfie10607.jpg', 'Selfie10595.jpg', 'Selfie10592.jpg', 'Selfie10605.jpg', 'Selfie10598.jpg', 'Selfie10600.jpg', 'Selfie10597.jpg', 'Selfie1060.jpg', 'Selfie10601.jpg', 'Selfie10593.jpg', 'Selfie10594.jpg', 'Selfie10606.jpg', 'Selfie10617.jpg', 'Selfie10625.jpg', 'Selfie1061.jpg', 'Selfie10614.jpg', 'Selfie10613.jpg', 'Selfie10619.jpg', 'Selfie10618.jpg', 'Selfie10616.jpg', 'Selfie10615.jpg', 'Selfie10610.jpg', 'Selfie10621.jpg', 'Selfie10611.jpg', 'Selfie10620.jpg', 'Selfie10612.jpg', 'Selfie10609.jpg', 'Selfie10624.jpg', 'Selfie1062.jpg', 'Selfie10623.jpg', 'Selfie10622.jpg', 'Selfie10630.jpg', 'Selfie10628.jpg', 'Selfie10633.jpg', 'Selfie10635.jpg', 'Selfie10632.jpg', 'Selfie1064.jpg', 'Selfie10642.jpg', 'Selfie10639.jpg', 'Selfie10629.jpg', 'Selfie10637.jpg', 'Selfie10636.jpg', 'Selfie10627.jpg', 'Selfie10640.jpg', 'Selfie10631.jpg', 'Selfie10641.jpg', 'Selfie10626.jpg', 'Selfie10638.jpg', 'Selfie10634.jpg', 'Selfie1063.jpg', 'Selfie10657.jpg', 'Selfie10659.jpg', 'Selfie10649.jpg', 'Selfie10652.jpg', 'Selfie10654.jpg', 'Selfie10655.jpg', 'Selfie10653.jpg', 'Selfie10643.jpg', 'Selfie10645.jpg', 'Selfie10646.jpg', 'Selfie10644.jpg', 'Selfie10656.jpg', 'Selfie10650.jpg', 'Selfie10651.jpg', 'Selfie10648.jpg', 'Selfie1066.jpg', 'Selfie1065.jpg', 'Selfie10647.jpg', 'Selfie10658.jpg', 'Selfie10663.jpg', 'Selfie10664.jpg', 'Selfie10665.jpg', 'Selfie10660.jpg', 'Selfie10673.jpg', 'Selfie10674.jpg', 'Selfie1067.jpg', 'Selfie10670.jpg', 'Selfie10675.jpg', 'Selfie10669.jpg', 'Selfie10676.jpg', 'Selfie10668.jpg', 'Selfie10672.jpg', 'Selfie10667.jpg', 'Selfie10661.jpg', 'Selfie10662.jpg', 'Selfie10666.jpg', 'Selfie10671.jpg', 'Selfie10682.jpg', 'Selfie10693.jpg', 'Selfie10689.jpg', 'Selfie10683.jpg', 'Selfie10688.jpg', 'Selfie10691.jpg', 'Selfie10686.jpg', 'Selfie10680.jpg', 'Selfie10681.jpg', 'Selfie10685.jpg', 'Selfie10684.jpg', 'Selfie1068.jpg', 'Selfie10678.jpg', 'Selfie1069.jpg', 'Selfie10687.jpg', 'Selfie10692.jpg', 'Selfie10690.jpg', 'Selfie10679.jpg', 'Selfie10694.jpg', 'Selfie10677.jpg', 'Selfie10705.jpg', 'Selfie10709.jpg', 'Selfie10710.jpg', 'Selfie10708.jpg', 'Selfie10703.jpg', 'Selfie10704.jpg', 'Selfie10696.jpg', 'Selfie107.jpg', 'Selfie1071.jpg', 'Selfie10698.jpg', 'Selfie10707.jpg', 'Selfie10702.jpg', 'Selfie10697.jpg', 'Selfie10700.jpg', 'Selfie1070.jpg', 'Selfie10695.jpg', 'Selfie10706.jpg', 'Selfie10701.jpg', 'Selfie10699.jpg', 'Selfie10729.jpg', 'Selfie10712.jpg', 'Selfie10726.jpg', 'Selfie10715.jpg', 'Selfie10720.jpg', 'Selfie10711.jpg', 'Selfie10724.jpg', 'Selfie10716.jpg', 'Selfie10719.jpg', 'Selfie1072.jpg', 'Selfie10717.jpg', 'Selfie10723.jpg', 'Selfie10722.jpg', 'Selfie10721.jpg', 'Selfie10714.jpg', 'Selfie10718.jpg', 'Selfie10727.jpg', 'Selfie10728.jpg', 'Selfie10725.jpg', 'Selfie10713.jpg', 'Selfie1073.jpg', 'Selfie10739.jpg', 'Selfie10736.jpg', 'Selfie10735.jpg', 'Selfie10733.jpg', 'Selfie10744.jpg', 'Selfie10731.jpg', 'Selfie10730.jpg', 'Selfie10741.jpg', 'Selfie10738.jpg', 'Selfie10737.jpg', 'Selfie1074.jpg', 'Selfie10743.jpg', 'Selfie10740.jpg', 'Selfie10732.jpg', 'Selfie10734.jpg', 'Selfie10742.jpg', 'Selfie10745.jpg', 'Selfie10755.jpg', 'Selfie10750.jpg', 'Selfie10753.jpg', 'Selfie10756.jpg', 'Selfie10747.jpg', 'Selfie10759.jpg', 'Selfie10752.jpg', 'Selfie10749.jpg', 'Selfie10757.jpg', 'Selfie1076.jpg', 'Selfie10762.jpg', 'Selfie10761.jpg', 'Selfie10748.jpg', 'Selfie10746.jpg', 'Selfie1075.jpg', 'Selfie10751.jpg', 'Selfie10758.jpg', 'Selfie10760.jpg', 'Selfie10754.jpg', 'Selfie1078.jpg', 'Selfie10777.jpg', 'Selfie10772.jpg', 'Selfie10768.jpg', 'Selfie10771.jpg', 'Selfie10765.jpg', 'Selfie10773.jpg', 'Selfie10775.jpg', 'Selfie10764.jpg', 'Selfie10779.jpg', 'Selfie10767.jpg', 'Selfie10774.jpg', 'Selfie10776.jpg', 'Selfie10766.jpg', 'Selfie10778.jpg', 'Selfie10763.jpg', 'Selfie10769.jpg', 'Selfie10770.jpg', 'Selfie1077.jpg', 'Selfie10794.jpg', 'Selfie10792.jpg', 'Selfie10797.jpg', 'Selfie10787.jpg', 'Selfie10791.jpg', 'Selfie1079.jpg', 'Selfie10780.jpg', 'Selfie10798.jpg', 'Selfie10789.jpg', 'Selfie10784.jpg', 'Selfie10785.jpg', 'Selfie10783.jpg', 'Selfie10781.jpg', 'Selfie10796.jpg', 'Selfie10793.jpg', 'Selfie10786.jpg', 'Selfie10788.jpg', 'Selfie10795.jpg', 'Selfie10782.jpg', 'Selfie10790.jpg', 'Selfie10806.jpg', 'Selfie10799.jpg', 'Selfie10802.jpg', 'Selfie10804.jpg', 'Selfie10811.jpg', 'Selfie10812.jpg', 'Selfie10814.jpg', 'Selfie10813.jpg', 'Selfie1080.jpg', 'Selfie1081.jpg', 'Selfie10807.jpg', 'Selfie10809.jpg', 'Selfie10810.jpg', 'Selfie10800.jpg', 'Selfie108.jpg', 'Selfie10803.jpg', 'Selfie10805.jpg', 'Selfie10801.jpg', 'Selfie10808.jpg', 'Selfie10828.jpg', 'Selfie10827.jpg', 'Selfie10815.jpg', 'Selfie10817.jpg', 'Selfie10823.jpg', 'Selfie10829.jpg', 'Selfie10826.jpg', 'Selfie10822.jpg', 'Selfie10821.jpg', 'Selfie1083.jpg', 'Selfie10819.jpg', 'Selfie10818.jpg', 'Selfie10820.jpg', 'Selfie10824.jpg', 'Selfie10825.jpg', 'Selfie10831.jpg', 'Selfie10816.jpg', 'Selfie1082.jpg', 'Selfie10830.jpg', 'Selfie10833.jpg', 'Selfie10844.jpg', 'Selfie10848.jpg', 'Selfie10845.jpg', 'Selfie10839.jpg', 'Selfie1085.jpg', 'Selfie10836.jpg', 'Selfie10846.jpg', 'Selfie1084.jpg', 'Selfie10843.jpg', 'Selfie10832.jpg', 'Selfie10847.jpg', 'Selfie10841.jpg', 'Selfie10849.jpg', 'Selfie10835.jpg', 'Selfie10842.jpg', 'Selfie10837.jpg', 'Selfie10840.jpg', 'Selfie10834.jpg', 'Selfie10838.jpg', 'Selfie1086.jpg', 'Selfie10859.jpg', 'Selfie10852.jpg', 'Selfie10860.jpg', 'Selfie10855.jpg', 'Selfie10865.jpg', 'Selfie10858.jpg', 'Selfie10853.jpg', 'Selfie10857.jpg', 'Selfie10867.jpg', 'Selfie10866.jpg', 'Selfie10861.jpg', 'Selfie10850.jpg', 'Selfie10864.jpg', 'Selfie10851.jpg', 'Selfie10863.jpg', 'Selfie10862.jpg', 'Selfie10856.jpg', 'Selfie10854.jpg', 'Selfie1088.jpg', 'Selfie10872.jpg', 'Selfie1087.jpg', 'Selfie10884.jpg', 'Selfie10882.jpg', 'Selfie10879.jpg', 'Selfie10880.jpg', 'Selfie10874.jpg', 'Selfie10883.jpg', 'Selfie10871.jpg', 'Selfie10878.jpg', 'Selfie10873.jpg', 'Selfie10869.jpg', 'Selfie10876.jpg', 'Selfie10877.jpg', 'Selfie10875.jpg', 'Selfie10881.jpg', 'Selfie10870.jpg', 'Selfie10868.jpg', 'Selfie10890.jpg', 'Selfie10887.jpg', 'Selfie10895.jpg', 'Selfie10894.jpg', 'Selfie109.jpg', 'Selfie10897.jpg', 'Selfie10896.jpg', 'Selfie10885.jpg', 'Selfie10889.jpg', 'Selfie10892.jpg', 'Selfie10899.jpg', 'Selfie10886.jpg', 'Selfie1089.jpg', 'Selfie10891.jpg', 'Selfie10893.jpg', 'Selfie1090.jpg', 'Selfie10900.jpg', 'Selfie10898.jpg', 'Selfie10888.jpg', 'Selfie10902.jpg', 'Selfie10913.jpg', 'Selfie1091.jpg', 'Selfie10916.jpg', 'Selfie10915.jpg', 'Selfie10912.jpg', 'Selfie10909.jpg', 'Selfie10907.jpg', 'Selfie10910.jpg', 'Selfie10917.jpg', 'Selfie10906.jpg', 'Selfie10914.jpg', 'Selfie10903.jpg', 'Selfie10905.jpg', 'Selfie10908.jpg', 'Selfie10911.jpg', 'Selfie10918.jpg', 'Selfie10904.jpg', 'Selfie10901.jpg', 'Selfie10925.jpg', 'Selfie1093.jpg', 'Selfie10935.jpg', 'Selfie1092.jpg', 'Selfie10929.jpg', 'Selfie10923.jpg', 'Selfie10926.jpg', 'Selfie10934.jpg', 'Selfie10927.jpg', 'Selfie10921.jpg', 'Selfie10922.jpg', 'Selfie10932.jpg', 'Selfie10928.jpg', 'Selfie10920.jpg', 'Selfie10933.jpg', 'Selfie10931.jpg', 'Selfie10919.jpg', 'Selfie10930.jpg', 'Selfie10924.jpg', 'Selfie10951.jpg', 'Selfie10937.jpg', 'Selfie10942.jpg', 'Selfie10943.jpg', 'Selfie10941.jpg', 'Selfie10946.jpg', 'Selfie10949.jpg', 'Selfie10950.jpg', 'Selfie10940.jpg', 'Selfie10947.jpg', 'Selfie1094.jpg', 'Selfie10936.jpg', 'Selfie10939.jpg', 'Selfie10944.jpg', 'Selfie1095.jpg', 'Selfie10945.jpg', 'Selfie10938.jpg', 'Selfie10948.jpg', 'Selfie10952.jpg', 'Selfie10968.jpg', 'Selfie10961.jpg', 'Selfie1097.jpg', 'Selfie10953.jpg', 'Selfie10958.jpg', 'Selfie1096.jpg', 'Selfie10967.jpg', 'Selfie10957.jpg', 'Selfie10955.jpg', 'Selfie10969.jpg', 'Selfie10954.jpg', 'Selfie10963.jpg', 'Selfie10966.jpg', 'Selfie10962.jpg', 'Selfie10959.jpg', 'Selfie10956.jpg', 'Selfie10964.jpg', 'Selfie10960.jpg', 'Selfie10965.jpg', 'Selfie1098.jpg', 'Selfie10983.jpg', 'Selfie10981.jpg', 'Selfie10973.jpg', 'Selfie10978.jpg', 'Selfie10987.jpg', 'Selfie10972.jpg', 'Selfie10986.jpg', 'Selfie10976.jpg', 'Selfie10979.jpg', 'Selfie10984.jpg', 'Selfie10975.jpg', 'Selfie10974.jpg', 'Selfie10970.jpg', 'Selfie10977.jpg', 'Selfie10985.jpg', 'Selfie10971.jpg', 'Selfie10980.jpg', 'Selfie10982.jpg', 'Selfie10997.jpg', 'Selfie10991.jpg', 'Selfie10995.jpg', 'Selfie110.jpg', 'Selfie1099.jpg', 'Selfie11001.jpg', 'Selfie11.jpg', 'Selfie11002.jpg', 'Selfie10999.jpg', 'Selfie1100.jpg', 'Selfie10994.jpg', 'Selfie10993.jpg', 'Selfie10989.jpg', 'Selfie10996.jpg', 'Selfie10988.jpg', 'Selfie10990.jpg', 'Selfie10998.jpg', 'Selfie10992.jpg', 'Selfie11000.jpg', 'Selfie11003.jpg', 'Selfie11008.jpg', 'Selfie11015.jpg', 'Selfie11004.jpg', 'Selfie11019.jpg', 'Selfie11018.jpg', 'Selfie11014.jpg', 'Selfie1101.jpg', 'Selfie11009.jpg', 'Selfie11011.jpg', 'Selfie11013.jpg', 'Selfie11010.jpg', 'Selfie11016.jpg', 'Selfie11007.jpg', 'Selfie11012.jpg', 'Selfie1102.jpg', 'Selfie11006.jpg', 'Selfie11005.jpg', 'Selfie11020.jpg', 'Selfie11017.jpg', 'Selfie11029.jpg', 'Selfie11023.jpg', 'Selfie1103.jpg', 'Selfie11030.jpg', 'Selfie11027.jpg', 'Selfie11033.jpg', 'Selfie11036.jpg', 'Selfie11031.jpg', 'Selfie11032.jpg', 'Selfie11026.jpg', 'Selfie11034.jpg', 'Selfie11024.jpg', 'Selfie11021.jpg', 'Selfie11037.jpg', 'Selfie11022.jpg', 'Selfie11025.jpg', 'Selfie11035.jpg', 'Selfie11028.jpg', 'Selfie11050.jpg', 'Selfie11040.jpg', 'Selfie11044.jpg', 'Selfie11054.jpg', 'Selfie11039.jpg', 'Selfie11053.jpg', 'Selfie11042.jpg', 'Selfie11052.jpg', 'Selfie11049.jpg', 'Selfie11041.jpg', 'Selfie11047.jpg', 'Selfie1104.jpg', 'Selfie1105.jpg', 'Selfie11045.jpg', 'Selfie11048.jpg', 'Selfie11051.jpg', 'Selfie11038.jpg', 'Selfie11046.jpg', 'Selfie11043.jpg', 'Selfie11055.jpg', 'Selfie11056.jpg', 'Selfie11058.jpg', 'Selfie11057.jpg', 'Selfie11059.jpg', 'Selfie10000 (1).jpg', 'Selfie1000 (1).jpg', 'Selfie10001 (1).jpg', 'Selfie10002 (1).jpg', 'Selfie100 (1).jpg', 'Selfie1 (1).jpg', 'Selfie10 (1).jpg', 'Selfie1000.jpg', 'Selfie10002.jpg', 'Selfie10.jpg', 'Selfie100.jpg', 'Selfie10000.jpg', 'Selfie1.jpg', 'Selfie10001.jpg', 'Selfie10008.jpg', 'Selfie10010.jpg', 'Selfie10003 (1).jpg', 'Selfie1001.jpg', 'Selfie10004 (1).jpg', 'Selfie10005 (1).jpg', 'Selfie10013.jpg', 'Selfie10009.jpg', 'Selfie10005.jpg', 'Selfie10006.jpg', 'Selfie10012.jpg', 'Selfie10011.jpg', 'Selfie10007.jpg', 'Selfie10003.jpg', 'Selfie10014.jpg', 'Selfie10004.jpg', 'Selfie10028.jpg', 'Selfie10022.jpg', 'Selfie10029.jpg', 'Selfie10019.jpg', 'Selfie10024.jpg', 'Selfie10023.jpg', 'Selfie1002.jpg', 'Selfie10018.jpg', 'Selfie10026.jpg', 'Selfie10016.jpg', 'Selfie10025.jpg', 'Selfie10017.jpg', 'Selfie10027.jpg', 'Selfie10021.jpg', 'Selfie10020.jpg', 'Selfie10015.jpg', 'Selfie10039.jpg', 'Selfie10036.jpg', 'Selfie10038.jpg', 'Selfie10037.jpg', 'Selfie10030.jpg', 'Selfie10040.jpg', 'Selfie1003.jpg', 'Selfie10042.jpg', 'Selfie10035.jpg', 'Selfie10041.jpg', 'Selfie10031.jpg', 'Selfie10033.jpg', 'Selfie10032.jpg', 'Selfie1004.jpg', 'Selfie10034.jpg', 'Selfie10046.jpg', 'Selfie10051.jpg', 'Selfie10048.jpg', 'Selfie1005.jpg', 'Selfie10044.jpg', 'Selfie10055.jpg', 'Selfie10050.jpg', 'Selfie10058.jpg', 'Selfie10045.jpg', 'Selfie10043.jpg', 'Selfie10057.jpg', 'Selfie10056.jpg', 'Selfie10052.jpg', 'Selfie10047.jpg', 'Selfie10059.jpg', 'Selfie10054.jpg', 'Selfie10053.jpg', 'Selfie10049.jpg', 'Selfie1006.jpg', 'Selfie10060.jpg', 'Selfie10064.jpg', 'Selfie10068.jpg', 'Selfie10074.jpg', 'Selfie10076.jpg', 'Selfie10075.jpg', 'Selfie10070.jpg', 'Selfie10067.jpg', 'Selfie10062.jpg', 'Selfie10065.jpg', 'Selfie10061.jpg', 'Selfie10069.jpg', 'Selfie10073.jpg', 'Selfie1007.jpg', 'Selfie10071.jpg', 'Selfie10063.jpg', 'Selfie10072.jpg', 'Selfie10066.jpg', 'Selfie10080.jpg', 'Selfie10087.jpg', 'Selfie1009.jpg', 'Selfie10091.jpg', 'Selfie1008.jpg', 'Selfie10086.jpg', 'Selfie10079.jpg', 'Selfie10077.jpg', 'Selfie10083.jpg', 'Selfie10084.jpg', 'Selfie10092.jpg', 'Selfie10088.jpg', 'Selfie10089.jpg', 'Selfie10082.jpg', 'Selfie10081.jpg', 'Selfie10085.jpg', 'Selfie10090.jpg', 'Selfie10078.jpg', 'Selfie10108.jpg', 'Selfie10093.jpg', 'Selfie10097.jpg', 'Selfie10106.jpg', 'Selfie10101.jpg', 'Selfie10100.jpg', 'Selfie10096.jpg', 'Selfie10102.jpg', 'Selfie101.jpg', 'Selfie10103.jpg', 'Selfie1010.jpg', 'Selfie10099.jpg', 'Selfie10105.jpg', 'Selfie10107.jpg', 'Selfie10109.jpg', 'Selfie10094.jpg', 'Selfie10098.jpg', 'Selfie10104.jpg', 'Selfie10095.jpg', 'Selfie10115.jpg', 'Selfie10111.jpg', 'Selfie1011.jpg', 'Selfie10120.jpg', 'Selfie10117.jpg', 'Selfie10116.jpg', 'Selfie10113.jpg', 'Selfie10118.jpg', 'Selfie10124.jpg', 'Selfie10112.jpg', 'Selfie10119.jpg', 'Selfie10122.jpg', 'Selfie10125.jpg', 'Selfie10126.jpg', 'Selfie10114.jpg', 'Selfie10121.jpg', 'Selfie10123.jpg', 'Selfie10110.jpg', 'Selfie1012.jpg', 'Selfie10138.jpg', 'Selfie10133.jpg', 'Selfie10127.jpg', 'Selfie10136.jpg', 'Selfie1014.jpg', 'Selfie10135.jpg', 'Selfie10128.jpg', 'Selfie10130.jpg', 'Selfie10132.jpg', 'Selfie10137.jpg', 'Selfie10139.jpg', 'Selfie10134.jpg', 'Selfie10141.jpg', 'Selfie10140.jpg', 'Selfie1013.jpg', 'Selfie10129.jpg', 'Selfie10142.jpg', 'Selfie10131.jpg', 'Selfie10143.jpg', 'Selfie10150.jpg', 'Selfie10155.jpg', 'Selfie10148.jpg', 'Selfie10146.jpg', 'Selfie10160.jpg', 'Selfie10156.jpg', 'Selfie10147.jpg', 'Selfie10161.jpg', 'Selfie1015.jpg', 'Selfie10152.jpg', 'Selfie10149.jpg', 'Selfie10154.jpg', 'Selfie10157.jpg', 'Selfie10159.jpg', 'Selfie10144.jpg', 'Selfie1016.jpg', 'Selfie10153.jpg']\n"
          ]
        }
      ]
    },
    {
      "cell_type": "code",
      "source": [],
      "metadata": {
        "id": "hBAv7uH6fU_m"
      },
      "execution_count": null,
      "outputs": []
    }
  ]
}